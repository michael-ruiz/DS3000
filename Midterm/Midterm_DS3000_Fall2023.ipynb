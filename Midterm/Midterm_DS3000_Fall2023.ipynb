{
 "cells": [
  {
   "cell_type": "markdown",
   "metadata": {
    "id": "dw9DILoTV5Ms"
   },
   "source": [
    "# Midterm - DS3000 (100 pts + 15 Bonus)\n",
    "\n",
    "### Student Name: xxxxxxxx\n",
    "### Student ID: xxxxxxxx\n",
    "\n",
    "## General comments\n",
    "\n",
    "* This Midterm integrates knowledge and skills acquired in the first half of the semester, especially in the Assignments. \n",
    "\n",
    "* You **are allowed** to use any document and sources on your computer and look up documents on the internet. You need to **cite any code that you use if it is NOT from the course** Labs or Tutorial examples. \n",
    "\n",
    "* You are **NOT allowed to use chatbots**. \n",
    "\n",
    "* You are **NOT allowedto share documents, or communicate**  in any other way with people inside or outside the class during the Midterm.\n",
    "\n",
    "* To finish the Midterm in the alloted **2 hrs**, you will have to work efficiently. **Read the entirety of each question carefully.** \n",
    "\n",
    "* You need to submit the Midterm **at 10:30 am on OWL in the Assignments/Midterm** section where you downloaded the data set and notebook. Late submission will be scored with 0 pts, unless you have received extra accommodation. To avoid technical difficulties, start your submission at latest five to ten minutes before the deadline. To be sure, you can also submit multiple version - only the latest version will be graded.  \n",
    "\n",
    "* Some question demand a **Written Answer** - answer these in a full English sentence. \n",
    "\n",
    "* For your Figures, ensure that all axes are **labeled** in an informative way. \n",
    "\n",
    "* Ensure that your **code runs correctly** by choosing \"Kernel -> Restart and Run All\" before submitting. \n",
    "\n",
    "### Additional Guidance\n",
    "\n",
    "If at any point you are not sure about the answer, then *write your assumptions clearly in your exam and proceed according to those assumptions.*\n",
    "\n",
    "Good luck!"
   ]
  },
  {
   "cell_type": "code",
   "execution_count": 309,
   "metadata": {
    "id": "wDIQkp3RV5Mx",
    "ExecuteTime": {
     "end_time": "2023-11-06T15:41:02.780132Z",
     "start_time": "2023-11-06T15:41:02.706536Z"
    }
   },
   "outputs": [],
   "source": [
    "## Preliminaries\n",
    "\n",
    "### YOU MAY ADD ADDITIONAL IMPORTS IF YOU WISH\n",
    "\n",
    "import matplotlib\n",
    "import matplotlib.pyplot as plt \n",
    "%matplotlib inline\n",
    "import pandas as pd \n",
    "import numpy as np\n",
    "import seaborn as sns\n",
    "from sklearn.model_selection import train_test_split, cross_val_score, GridSearchCV\n",
    "from sklearn.pipeline import Pipeline\n",
    "from sklearn.linear_model import LinearRegression, Lasso, Ridge, LogisticRegression\n",
    "from sklearn.preprocessing import OneHotEncoder, PolynomialFeatures, StandardScaler\n",
    "from sklearn.metrics import confusion_matrix, roc_curve, auc, mean_absolute_error, mean_squared_error, r2_score, accuracy_score\n",
    "# from datetime import datetime\n",
    " "
   ]
  },
  {
   "cell_type": "markdown",
   "metadata": {
    "id": "gQ6OsD-FV5My"
   },
   "source": [
    "## Dataset \n",
    "\n",
    "This exam objective is to develop a data-driven predictive model for the price of properties.  \n",
    "You will be working with a dataset called `Property_Price`. You need to download this dataset from OWL in the Assignments/Midterm. Below, we provide a detailed description of each variable in the dataset:\n",
    "\n",
    "-\t**ID**: the property's identification\n",
    "-\t**MSSubClass**: The building class\n",
    "-\t**LotArea**: Lot size in square feet\n",
    "-\t**LandSlope**: Slope of property\n",
    "-\t**HouseStyle**: Style of dwelling\n",
    "-\t**OverallQual**: Overall material and finish quality\n",
    "-\t**OverallCond**: Overall condition rating\n",
    "-\t**YearBuilt**: Original construction date\n",
    "-\t**MasVnrArea**: Masonry veneer area in square feet\n",
    "-\t**TotalBsmtSF**: Total square feet of basement area\n",
    "-\t**Heating**: Type of heating\n",
    "-\t**CentralAir**: Central air conditioning\n",
    "-\t**1stFlrSF**: First Floor square feet\n",
    "-\t**2ndFlrSF**: Second floor square feet\n",
    "-\t**GrLivArea**: Above grade (ground) living area square feet\n",
    "-\t**FullBath**: Full bathrooms above grade\n",
    "-\t**HalfBath**: Half baths above grade\n",
    "-\t**BedroomAbvGr**: Number of bedrooms above basement level\n",
    "-\t**TotRmsAbvGrd**: Total rooms above grade (does not include bathrooms)\n",
    "-\t**Fireplaces**: Number of fireplaces\n",
    "-\t**GarageCars**: Size of garage in car capacity\n",
    "-\t**GarageArea**: Size of garage in square feet\n",
    "-\t**PavedDrive**: Paved driveway\n",
    "-\t**WoodDeckSF**: Wood deck area in square feet\n",
    "-\t**OpenPorchSF**: Open porch area in square feet\n",
    "-\t**MiscVal**: $Value of miscellaneous feature\n",
    "-\t**YrSold**: Year Sold\n",
    "-\t**SalePrice**: the property's sale price in dollars. This is the target variable that you're trying to predict.\n",
    "\n",
    "\n",
    "\n",
    "\n",
    "\n"
   ]
  },
  {
   "cell_type": "markdown",
   "metadata": {},
   "source": [
    "## Question1: Regression (60 pts)"
   ]
  },
  {
   "cell_type": "markdown",
   "metadata": {
    "id": "fypI1RKoV5Mz"
   },
   "source": [
    "### Q1.1: Data Preparation (15pts)\n",
    "\n",
    "Load the dataset and perform necessary preprocessing steps and feature engineering:\n",
    "\n",
    "- Remove rows with any null values. \n",
    "\n",
    "- Remove the `Id` column from your dataframe. \n",
    "\n",
    "- Find the age of property using `YearBuilt` variable and replace `YearBuilt` with the new variable `PropertyAge`.\n",
    "\n",
    "- Use `YrSold` variable to calculate how many years ago the property was sold and name that new coulmn `YrsSinceSale` and replace `YrSold`.\n",
    "\n",
    "- Encode all categorical columns (One-hot encoding). \n",
    "\n",
    "- **Written Answer**: How many new columns were added?\n",
    "\n",
    "- **Written Answer**: Explain the choice of One-hot encoding for categorical variables and the potential issues with dimensionality.\n"
   ]
  },
  {
   "cell_type": "code",
   "execution_count": 310,
   "metadata": {
    "colab": {
     "base_uri": "https://localhost:8080/"
    },
    "id": "DaAo_1BlV5Mz",
    "outputId": "a9740a85-b9ae-4ceb-b088-37506b5da23d",
    "ExecuteTime": {
     "end_time": "2023-11-06T15:41:02.854670Z",
     "start_time": "2023-11-06T15:41:02.716742Z"
    }
   },
   "outputs": [
    {
     "data": {
      "text/plain": "   MSSubClass  LotArea  OverallQual  OverallCond  MasVnrArea  TotalBsmtSF  \\\n0          60     8450            7            5       196.0          856   \n1          20     9600            6            8         0.0         1262   \n2          60    11250            7            5       162.0          920   \n3          70     9550            7            5         0.0          756   \n4          60    14260            8            5       350.0         1145   \n\n   1stFlrSF  2ndFlrSF  GrLivArea  FullBath  ...  Heating_GasA  Heating_GasW  \\\n0       856       854       1710         2  ...          True         False   \n1      1262         0       1262         2  ...          True         False   \n2       920       866       1786         2  ...          True         False   \n3       961       756       1717         1  ...          True         False   \n4      1145      1053       2198         2  ...          True         False   \n\n   Heating_Grav  Heating_OthW  Heating_Wall  CentralAir_N  CentralAir_Y  \\\n0         False         False         False         False          True   \n1         False         False         False         False          True   \n2         False         False         False         False          True   \n3         False         False         False         False          True   \n4         False         False         False         False          True   \n\n   PavedDrive_N  PavedDrive_P  PavedDrive_Y  \n0         False         False          True  \n1         False         False          True  \n2         False         False          True  \n3         False         False          True  \n4         False         False          True  \n\n[5 rows x 44 columns]",
      "text/html": "<div>\n<style scoped>\n    .dataframe tbody tr th:only-of-type {\n        vertical-align: middle;\n    }\n\n    .dataframe tbody tr th {\n        vertical-align: top;\n    }\n\n    .dataframe thead th {\n        text-align: right;\n    }\n</style>\n<table border=\"1\" class=\"dataframe\">\n  <thead>\n    <tr style=\"text-align: right;\">\n      <th></th>\n      <th>MSSubClass</th>\n      <th>LotArea</th>\n      <th>OverallQual</th>\n      <th>OverallCond</th>\n      <th>MasVnrArea</th>\n      <th>TotalBsmtSF</th>\n      <th>1stFlrSF</th>\n      <th>2ndFlrSF</th>\n      <th>GrLivArea</th>\n      <th>FullBath</th>\n      <th>...</th>\n      <th>Heating_GasA</th>\n      <th>Heating_GasW</th>\n      <th>Heating_Grav</th>\n      <th>Heating_OthW</th>\n      <th>Heating_Wall</th>\n      <th>CentralAir_N</th>\n      <th>CentralAir_Y</th>\n      <th>PavedDrive_N</th>\n      <th>PavedDrive_P</th>\n      <th>PavedDrive_Y</th>\n    </tr>\n  </thead>\n  <tbody>\n    <tr>\n      <th>0</th>\n      <td>60</td>\n      <td>8450</td>\n      <td>7</td>\n      <td>5</td>\n      <td>196.0</td>\n      <td>856</td>\n      <td>856</td>\n      <td>854</td>\n      <td>1710</td>\n      <td>2</td>\n      <td>...</td>\n      <td>True</td>\n      <td>False</td>\n      <td>False</td>\n      <td>False</td>\n      <td>False</td>\n      <td>False</td>\n      <td>True</td>\n      <td>False</td>\n      <td>False</td>\n      <td>True</td>\n    </tr>\n    <tr>\n      <th>1</th>\n      <td>20</td>\n      <td>9600</td>\n      <td>6</td>\n      <td>8</td>\n      <td>0.0</td>\n      <td>1262</td>\n      <td>1262</td>\n      <td>0</td>\n      <td>1262</td>\n      <td>2</td>\n      <td>...</td>\n      <td>True</td>\n      <td>False</td>\n      <td>False</td>\n      <td>False</td>\n      <td>False</td>\n      <td>False</td>\n      <td>True</td>\n      <td>False</td>\n      <td>False</td>\n      <td>True</td>\n    </tr>\n    <tr>\n      <th>2</th>\n      <td>60</td>\n      <td>11250</td>\n      <td>7</td>\n      <td>5</td>\n      <td>162.0</td>\n      <td>920</td>\n      <td>920</td>\n      <td>866</td>\n      <td>1786</td>\n      <td>2</td>\n      <td>...</td>\n      <td>True</td>\n      <td>False</td>\n      <td>False</td>\n      <td>False</td>\n      <td>False</td>\n      <td>False</td>\n      <td>True</td>\n      <td>False</td>\n      <td>False</td>\n      <td>True</td>\n    </tr>\n    <tr>\n      <th>3</th>\n      <td>70</td>\n      <td>9550</td>\n      <td>7</td>\n      <td>5</td>\n      <td>0.0</td>\n      <td>756</td>\n      <td>961</td>\n      <td>756</td>\n      <td>1717</td>\n      <td>1</td>\n      <td>...</td>\n      <td>True</td>\n      <td>False</td>\n      <td>False</td>\n      <td>False</td>\n      <td>False</td>\n      <td>False</td>\n      <td>True</td>\n      <td>False</td>\n      <td>False</td>\n      <td>True</td>\n    </tr>\n    <tr>\n      <th>4</th>\n      <td>60</td>\n      <td>14260</td>\n      <td>8</td>\n      <td>5</td>\n      <td>350.0</td>\n      <td>1145</td>\n      <td>1145</td>\n      <td>1053</td>\n      <td>2198</td>\n      <td>2</td>\n      <td>...</td>\n      <td>True</td>\n      <td>False</td>\n      <td>False</td>\n      <td>False</td>\n      <td>False</td>\n      <td>False</td>\n      <td>True</td>\n      <td>False</td>\n      <td>False</td>\n      <td>True</td>\n    </tr>\n  </tbody>\n</table>\n<p>5 rows × 44 columns</p>\n</div>"
     },
     "execution_count": 310,
     "metadata": {},
     "output_type": "execute_result"
    }
   ],
   "source": [
    "df = pd.read_csv('Property_Price.csv')\n",
    "df = df.drop(columns=['Id'])\n",
    "df = df.dropna()\n",
    "\n",
    "yrb = df['YearBuilt'].values\n",
    "property_age = 2023 - yrb\n",
    "df['PropertyAge'] = property_age\n",
    "df = df.drop(columns=['YearBuilt'])\n",
    "\n",
    "yrs = df['YrSold'].values\n",
    "sale_age = 2023 - yrs\n",
    "df['YrsSinceSale'] = sale_age\n",
    "df = df.drop(columns=['YrSold'])\n",
    "\n",
    "# Assume not drop first\n",
    "df = pd.get_dummies(df, columns=['LandSlope'], prefix='LandSlope', drop_first=False)\n",
    "df = pd.get_dummies(df, columns=['HouseStyle'], prefix='HouseStyle', drop_first=False)\n",
    "df = pd.get_dummies(df, columns=['Heating'], prefix='Heating', drop_first=False)\n",
    "df = pd.get_dummies(df, columns=['CentralAir'], prefix='CentralAir', drop_first=False)\n",
    "df = pd.get_dummies(df, columns=['PavedDrive'], prefix='PavedDrive', drop_first=False)\n",
    "\n",
    "df.head()"
   ]
  },
  {
   "cell_type": "markdown",
   "metadata": {},
   "source": [
    "**Written Answer**: Added 24 columns "
   ]
  },
  {
   "cell_type": "markdown",
   "metadata": {},
   "source": [
    "**Written Answer**: Hot encoded the columns that were not represented by only numbers."
   ]
  },
  {
   "cell_type": "markdown",
   "metadata": {
    "id": "P2yiWCJcV5M0"
   },
   "source": [
    "### Q1.2: Data Splitting (5pts)\n",
    "\n",
    "- Separate `SalePrice` as the target variable for your machine learning model (Regression). \n",
    "- Split your preprocessed dataset by setting aside 20 percent of data for testing, and the rest for training. *Make sure to set the random_state to 42 if you are using a sklearn function to accomplish this. \n"
   ]
  },
  {
   "cell_type": "code",
   "execution_count": 311,
   "metadata": {
    "ExecuteTime": {
     "end_time": "2023-11-06T15:41:02.856194Z",
     "start_time": "2023-11-06T15:41:02.754344Z"
    }
   },
   "outputs": [],
   "source": [
    "X = df.drop(columns=['SalePrice'])\n",
    "y = df['SalePrice'].values\n",
    "\n",
    "Xtrain, Xtest, ytrain, ytest = train_test_split(X, y, test_size=0.2, random_state=42)"
   ]
  },
  {
   "cell_type": "markdown",
   "metadata": {
    "id": "pQ5nPFsdV5M0"
   },
   "source": [
    "### Q1.3: Build a Linear Regression model (15pts)\n",
    "- Build a model to predict SalePrice as a `linear function` of the other variables (features) in the dataset. In order to properly build the regression model, the features need to be `standardized`. Build a `pipeline` that **standardizes the features** and **creates a linear regression model**.\n",
    "- Report the Mean Squared Error (MSE) to evaluate both the training and test performance of your model.\n",
    "- **Written Answer**:Explain the potential reasons for the observed MSE and discuss strategies for improvement."
   ]
  },
  {
   "cell_type": "code",
   "execution_count": 312,
   "metadata": {
    "colab": {
     "base_uri": "https://localhost:8080/",
     "height": 282
    },
    "id": "Y10dmz8zV5M1",
    "outputId": "96d8b52d-a088-4725-9977-1e58b1caf186",
    "ExecuteTime": {
     "end_time": "2023-11-06T15:41:02.880172Z",
     "start_time": "2023-11-06T15:41:02.762795Z"
    }
   },
   "outputs": [
    {
     "name": "stdout",
     "output_type": "stream",
     "text": [
      "MSE: 2.708425808113497e+34\n"
     ]
    }
   ],
   "source": [
    "linear_regression = Pipeline([\n",
    "    ('scale', StandardScaler()),\n",
    "    ('linear_regression', LinearRegression())\n",
    "])\n",
    "linear_regression.fit(Xtrain, ytrain)\n",
    "\n",
    "y_pred = linear_regression.predict(Xtest)\n",
    "mse = mean_squared_error(ytest, y_pred)\n",
    "\n",
    "print(f'MSE: {mse}')"
   ]
  },
  {
   "cell_type": "markdown",
   "metadata": {},
   "source": [
    "**Written Answer**: There might be too many features, might need to cut down and find the ones that are relevant"
   ]
  },
  {
   "cell_type": "markdown",
   "metadata": {
    "id": "nfFJqTkNV5M1"
   },
   "source": [
    "### Q1.4: Regularization and Hyperparameter Tuning (25pts)\n",
    "\n",
    "1. Use L2 regularization by adding a penalty of $\\alpha$ to the regression model: $\\alpha \\sum_{i}{\\theta_i^2}$  (where $\\theta_i$ are your regression coefficients). Vary the regularization parameter $\\alpha$  between 0.2 and 250, evenly spaced in log-space, and generate 50 values. \n",
    "2. Build the `pipeline` that **standardizes the features** and **create the regularized regression model**.\n",
    "3. Define a grid of regularization parameters for hyperparameter tuning for different values of $\\alpha$ (using gridsearch and cv=10). Use MSE as evaluation criterion (*hint: use 'neg_mean_squared_error' as scoring*).  \n",
    "4. Make a plot of the mean validation scores vs $\\alpha$.  \n",
    "5. Report the best (optimum) $\\alpha$ that you found.\n",
    "6. Evaluate the the model performance on the test set using the best $\\alpha$ and report test MSE.\n",
    "7. **Written Answer\"**:What was the impact of regularization on the model's performance? How does the regularization parameter alpha influence the model?\n",
    "\n"
   ]
  },
  {
   "cell_type": "code",
   "execution_count": 313,
   "metadata": {
    "ExecuteTime": {
     "end_time": "2023-11-06T15:41:07.963692Z",
     "start_time": "2023-11-06T15:41:02.786978Z"
    }
   },
   "outputs": [
    {
     "data": {
      "text/plain": "<Figure size 768x576 with 1 Axes>",
      "image/png": "[encoded data removed]"
     },
     "metadata": {},
     "output_type": "display_data"
    },
    {
     "name": "stdout",
     "output_type": "stream",
     "text": [
      "Best lambda: 104.40625970589839\n"
     ]
    }
   ],
   "source": [
    "regularization_params = np.exp(np.linspace(np.log(0.2), np.log(250), 50))\n",
    "cv_score_mean = np.zeros(regularization_params.size)\n",
    "\n",
    "for i, L in enumerate(regularization_params):\n",
    "    ridge_pipe = Pipeline([\n",
    "    ('scale', StandardScaler()),\n",
    "    ('regression', Ridge(alpha=L, fit_intercept=True)) \n",
    "    ])\n",
    "    \n",
    "    cv_r2_score = cross_val_score(ridge_pipe, Xtrain, ytrain, cv=10, scoring='neg_mean_squared_error')\n",
    "    cv_score_mean[i]= cv_r2_score.mean()\n",
    "    \n",
    "fig, ax = plt.subplots(dpi = 120)\n",
    "ax.plot(regularization_params, cv_score_mean)\n",
    "ax.set_xlabel(r'$\\lambda$', fontsize = 16)\n",
    "ax.set_ylabel(r'$Score$', fontsize = 16)\n",
    "plt.show()\n",
    "\n",
    "best_lamda = np.argmax(cv_score_mean)\n",
    "print(f'Best lambda: {regularization_params[best_lamda]}')\n"
   ]
  },
  {
   "cell_type": "markdown",
   "metadata": {},
   "source": [
    "**Written Answer:** regularizing helps with overwriting, alpha influences the degree of regularization applied"
   ]
  },
  {
   "cell_type": "markdown",
   "metadata": {},
   "source": [
    "## Question 2  - Classification (40 pts)"
   ]
  },
  {
   "cell_type": "markdown",
   "metadata": {
    "id": "FWcR9tK5V5M2"
   },
   "source": [
    "### Q2.1: Logistic Regression (LR) (20pts)\n",
    "1. Convert the problem into a binary classification by changing the taget variable. Use the train and test sets from Q1.2. If `SalePrice` is above median value (inclusive) will be assigned 1, and 0 otherwise. \n",
    "2. Perform logistic regression`. Evaluate the model generalization using `confusion matrix` and `accuracy` metrics and report them.\n",
    "3. Plot ROC curve and report AUC. \n",
    "4. **Written Answer** Discuss the choice of converting the regression problem into a binary classification task and its practical implications.\n",
    "5. **Written Answer** Analyze the confusion matrix results and discuss the balance between false positives and false negatives."
   ]
  },
  {
   "cell_type": "code",
   "execution_count": 314,
   "metadata": {
    "colab": {
     "base_uri": "https://localhost:8080/"
    },
    "id": "3VEX_1iOV5M2",
    "outputId": "4093ca71-55b3-4bb1-af85-497b9d8c843c",
    "ExecuteTime": {
     "end_time": "2023-11-06T15:41:08.282788Z",
     "start_time": "2023-11-06T15:41:07.957914Z"
    }
   },
   "outputs": [
    {
     "name": "stdout",
     "output_type": "stream",
     "text": [
      "Confusion Matrix: [[675  51]\n",
      " [ 56 670]]\n",
      "Accuracy Score: 0.9263085399449036\n",
      "AUC scores: [0.97410396 0.98705198 0.97983257 0.97431507 0.96708524 0.95909437\n",
      " 0.9695586  0.97907154 0.96537291 0.96917808]\n"
     ]
    }
   ],
   "source": [
    "X2 = df.drop(columns=['SalePrice'])\n",
    "y2 = df['SalePrice'].values\n",
    "\n",
    "median_y = np.median(y2)\n",
    "for i in range(len(y2)):\n",
    "    if y2[i] < median_y:\n",
    "        y2[i] = 0\n",
    "    else:\n",
    "        y2[i] = 1\n",
    "\n",
    "\n",
    "logistic_regression = Pipeline([\n",
    "    ('scale', StandardScaler()),\n",
    "    ('linear_regression', LogisticRegression(max_iter=10000))\n",
    "])\n",
    "logistic_regression.fit(X2,y2)\n",
    "\n",
    "y2_pred_test = logistic_regression.predict(X2)\n",
    "cm = confusion_matrix(y2, y2_pred_test)\n",
    "ascore = accuracy_score(y2, y2_pred_test)\n",
    "auc_scores = cross_val_score(logistic_regression, X2, y2, cv=10, scoring='roc_auc')\n",
    "\n",
    "print(f'Confusion Matrix: {cm}')\n",
    "print(f'Accuracy Score: {ascore}')\n",
    "print(f'AUC scores: {auc_scores}')\n",
    "\n",
    "fpr, tpr, thresholds = roc_curve(y2, y2_pred_test)"
   ]
  },
  {
   "cell_type": "markdown",
   "metadata": {
    "id": "AqkJNtMtV5M2"
   },
   "source": [
    "**Written Answer:** "
   ]
  },
  {
   "cell_type": "markdown",
   "metadata": {},
   "source": [
    "**Written Answer:** "
   ]
  },
  {
   "cell_type": "markdown",
   "metadata": {
    "id": "pxsvJvJIV5M2"
   },
   "source": [
    "### Q2.2: Support Vector Machine (SVM) (20pts)\n",
    "\n",
    "1. Define an SVM classification model and choose a range of ten (10) values for regularization parameter `C` between 0.01 and 10, evenly spaced in log-space.\n",
    "2. Calculate the mean and standard deviation for the training scores and validation score using 10 fold validation_curve with `accuracy` metric. \n",
    "3. Find the best C and report its value. \n",
    "4. Calculate and report test accuracy using best C value.\n",
    "5. Plot ROC curve and report AUC. \n",
    "6. **Written Answer**: to compare SVM results with Logistic Regression's in Q2.1, what do you conclude according to their test AUC and Accuracy values. Comprehensively explain.\n"
   ]
  },
  {
   "cell_type": "code",
   "execution_count": 315,
   "metadata": {
    "colab": {
     "base_uri": "https://localhost:8080/"
    },
    "id": "Ld47CLOlV5M3",
    "outputId": "42f3aa1d-f2e1-4687-89e1-c6eef5bd0661",
    "ExecuteTime": {
     "end_time": "2023-11-06T15:41:17.355613Z",
     "start_time": "2023-11-06T15:41:08.277365Z"
    }
   },
   "outputs": [
    {
     "name": "stderr",
     "output_type": "stream",
     "text": [
      "/Users/michaelruiz/anaconda3/envs/DS_A4/lib/python3.11/site-packages/sklearn/svm/_classes.py:32: FutureWarning: The default value of `dual` will change from `True` to `'auto'` in 1.5. Set the value of `dual` explicitly to suppress the warning.\n",
      "  warnings.warn(\n",
      "/Users/michaelruiz/anaconda3/envs/DS_A4/lib/python3.11/site-packages/sklearn/svm/_base.py:1242: ConvergenceWarning: Liblinear failed to converge, increase the number of iterations.\n",
      "  warnings.warn(\n",
      "/Users/michaelruiz/anaconda3/envs/DS_A4/lib/python3.11/site-packages/sklearn/svm/_classes.py:32: FutureWarning: The default value of `dual` will change from `True` to `'auto'` in 1.5. Set the value of `dual` explicitly to suppress the warning.\n",
      "  warnings.warn(\n",
      "/Users/michaelruiz/anaconda3/envs/DS_A4/lib/python3.11/site-packages/sklearn/svm/_classes.py:32: FutureWarning: The default value of `dual` will change from `True` to `'auto'` in 1.5. Set the value of `dual` explicitly to suppress the warning.\n",
      "  warnings.warn(\n",
      "/Users/michaelruiz/anaconda3/envs/DS_A4/lib/python3.11/site-packages/sklearn/svm/_classes.py:32: FutureWarning: The default value of `dual` will change from `True` to `'auto'` in 1.5. Set the value of `dual` explicitly to suppress the warning.\n",
      "  warnings.warn(\n",
      "/Users/michaelruiz/anaconda3/envs/DS_A4/lib/python3.11/site-packages/sklearn/svm/_classes.py:32: FutureWarning: The default value of `dual` will change from `True` to `'auto'` in 1.5. Set the value of `dual` explicitly to suppress the warning.\n",
      "  warnings.warn(\n",
      "/Users/michaelruiz/anaconda3/envs/DS_A4/lib/python3.11/site-packages/sklearn/svm/_classes.py:32: FutureWarning: The default value of `dual` will change from `True` to `'auto'` in 1.5. Set the value of `dual` explicitly to suppress the warning.\n",
      "  warnings.warn(\n",
      "/Users/michaelruiz/anaconda3/envs/DS_A4/lib/python3.11/site-packages/sklearn/svm/_base.py:1242: ConvergenceWarning: Liblinear failed to converge, increase the number of iterations.\n",
      "  warnings.warn(\n",
      "/Users/michaelruiz/anaconda3/envs/DS_A4/lib/python3.11/site-packages/sklearn/svm/_classes.py:32: FutureWarning: The default value of `dual` will change from `True` to `'auto'` in 1.5. Set the value of `dual` explicitly to suppress the warning.\n",
      "  warnings.warn(\n",
      "/Users/michaelruiz/anaconda3/envs/DS_A4/lib/python3.11/site-packages/sklearn/svm/_classes.py:32: FutureWarning: The default value of `dual` will change from `True` to `'auto'` in 1.5. Set the value of `dual` explicitly to suppress the warning.\n",
      "  warnings.warn(\n",
      "/Users/michaelruiz/anaconda3/envs/DS_A4/lib/python3.11/site-packages/sklearn/svm/_classes.py:32: FutureWarning: The default value of `dual` will change from `True` to `'auto'` in 1.5. Set the value of `dual` explicitly to suppress the warning.\n",
      "  warnings.warn(\n",
      "/Users/michaelruiz/anaconda3/envs/DS_A4/lib/python3.11/site-packages/sklearn/svm/_base.py:1242: ConvergenceWarning: Liblinear failed to converge, increase the number of iterations.\n",
      "  warnings.warn(\n",
      "/Users/michaelruiz/anaconda3/envs/DS_A4/lib/python3.11/site-packages/sklearn/svm/_classes.py:32: FutureWarning: The default value of `dual` will change from `True` to `'auto'` in 1.5. Set the value of `dual` explicitly to suppress the warning.\n",
      "  warnings.warn(\n",
      "/Users/michaelruiz/anaconda3/envs/DS_A4/lib/python3.11/site-packages/sklearn/svm/_classes.py:32: FutureWarning: The default value of `dual` will change from `True` to `'auto'` in 1.5. Set the value of `dual` explicitly to suppress the warning.\n",
      "  warnings.warn(\n"
     ]
    },
    {
     "name": "stdout",
     "output_type": "stream",
     "text": [
      "Confusion Matrix: [[668  58]\n",
      " [ 62 664]]\n",
      "Accuracy Score: 0.9173553719008265\n",
      "AUC scores: [0.96978795 0.98404954 0.97792998 0.97127093 0.95890411 0.9446347\n",
      " 0.9640411  0.97393455 0.96366058 0.96232877]\n"
     ]
    }
   ],
   "source": [
    "from sklearn.svm import LinearSVC\n",
    "\n",
    "# Using same data from Q2.1\n",
    "SVM = Pipeline([\n",
    "    ('scale', StandardScaler()),\n",
    "    ('linear_regression', LinearSVC(max_iter=10000))\n",
    "])\n",
    "SVM.fit(X2,y2)\n",
    "y2_pred_test = SVM.predict(X2)\n",
    "cm = confusion_matrix(y2, y2_pred_test)\n",
    "ascore = accuracy_score(y2, y2_pred_test)\n",
    "auc_scores = cross_val_score(SVM, X2, y2, cv=10, scoring='roc_auc')\n",
    "\n",
    "print(f'Confusion Matrix: {cm}')\n",
    "print(f'Accuracy Score: {ascore}')\n",
    "print(f'AUC scores: {auc_scores}')\n",
    "\n",
    "fpr, tpr, thresholds = roc_curve(y2, y2_pred_test)"
   ]
  },
  {
   "cell_type": "markdown",
   "metadata": {},
   "source": [
    "**Written Answer**: "
   ]
  },
  {
   "cell_type": "markdown",
   "metadata": {},
   "source": [
    "## Question 3 - Model Uncertainty (15 Bonus pts)\n",
    "\n",
    "- Estimate the confidence interval of the performance of either Logistic Regression or SVM models, you created above in Q3, using the bootstrap method with 10 bootstrap samples.\n",
    "- **Written Answer:** Discuss the significance of the 95% confidence interval in the context of model performance.How can the concept of uncertainty in model predictions impact decision-making processes?"
   ]
  },
  {
   "cell_type": "code",
   "execution_count": 316,
   "metadata": {
    "ExecuteTime": {
     "end_time": "2023-11-06T15:41:19.252144Z",
     "start_time": "2023-11-06T15:41:17.353376Z"
    }
   },
   "outputs": [
    {
     "ename": "IndexError",
     "evalue": "index 1 is out of bounds for axis 0 with size 1",
     "output_type": "error",
     "traceback": [
      "\u001B[0;31m---------------------------------------------------------------------------\u001B[0m",
      "\u001B[0;31mIndexError\u001B[0m                                Traceback (most recent call last)",
      "Cell \u001B[0;32mIn[316], line 19\u001B[0m\n\u001B[1;32m     15\u001B[0m         theta \u001B[38;5;241m=\u001B[39m np\u001B[38;5;241m.\u001B[39mappend(theta, np\u001B[38;5;241m.\u001B[39marray([[boot_intercepts, boot_coef]]), axis\u001B[38;5;241m=\u001B[39m\u001B[38;5;241m0\u001B[39m)\n\u001B[1;32m     17\u001B[0m     \u001B[38;5;28;01mreturn\u001B[39;00m theta\n\u001B[0;32m---> 19\u001B[0m theta1 \u001B[38;5;241m=\u001B[39m BootstrapCoef(df, \u001B[38;5;241m10\u001B[39m, LogisticRegression(max_iter\u001B[38;5;241m=\u001B[39m\u001B[38;5;241m10000\u001B[39m))\n\u001B[1;32m     20\u001B[0m theta2 \u001B[38;5;241m=\u001B[39m BootstrapCoef(df, \u001B[38;5;241m10\u001B[39m, LinearSVC(max_iter\u001B[38;5;241m=\u001B[39m\u001B[38;5;241m10000\u001B[39m))\n\u001B[1;32m     22\u001B[0m bs_res \u001B[38;5;241m=\u001B[39m theta1[:, \u001B[38;5;241m1\u001B[39m] \u001B[38;5;241m-\u001B[39m logistic_regression\u001B[38;5;241m.\u001B[39mcoef_\n",
      "Cell \u001B[0;32mIn[316], line 14\u001B[0m, in \u001B[0;36mBootstrapCoef\u001B[0;34m(data, numboot, model)\u001B[0m\n\u001B[1;32m     11\u001B[0m     m\u001B[38;5;241m.\u001B[39mfit(X_b, y_b)\n\u001B[1;32m     13\u001B[0m     boot_intercepts \u001B[38;5;241m=\u001B[39m m\u001B[38;5;241m.\u001B[39mintercept_\n\u001B[0;32m---> 14\u001B[0m     boot_coef \u001B[38;5;241m=\u001B[39m m\u001B[38;5;241m.\u001B[39mcoef_[\u001B[38;5;241m1\u001B[39m]\n\u001B[1;32m     15\u001B[0m     theta \u001B[38;5;241m=\u001B[39m np\u001B[38;5;241m.\u001B[39mappend(theta, np\u001B[38;5;241m.\u001B[39marray([[boot_intercepts, boot_coef]]), axis\u001B[38;5;241m=\u001B[39m\u001B[38;5;241m0\u001B[39m)\n\u001B[1;32m     17\u001B[0m \u001B[38;5;28;01mreturn\u001B[39;00m theta\n",
      "\u001B[0;31mIndexError\u001B[0m: index 1 is out of bounds for axis 0 with size 1"
     ]
    }
   ],
   "source": [
    "def BootstrapCoef(data, numboot, model):\n",
    "    n = len(data)\n",
    "    theta = np.empty((0,2))\n",
    "    \n",
    "    for i in range(numboot):\n",
    "        d = data.sample(n,replace=True)\n",
    "        x_b = d.drop(columns=['SalePrice'])\n",
    "        X_b = np.c_[np.ones(d.shape[0]), x_b]\n",
    "        y_b = d['SalePrice'].values\n",
    "        m = model\n",
    "        m.fit(X_b, y_b)\n",
    " \n",
    "        boot_intercepts = m.intercept_\n",
    "        boot_coef = m.coef_[1]\n",
    "        theta = np.append(theta, np.array([[boot_intercepts, boot_coef]]), axis=0)\n",
    "        \n",
    "    return theta\n",
    "\n",
    "theta1 = BootstrapCoef(df, 10, LogisticRegression(max_iter=10000))\n",
    "theta2 = BootstrapCoef(df, 10, LinearSVC(max_iter=10000))\n",
    "\n",
    "bs_res = theta1[:, 1] - logistic_regression.coef_\n",
    "ci_lower, ci_upper = np.quantile(bs_res, [0.025, 0.975])\n",
    "boot_ci = [logistic_regression.coef_ - ci_upper, logistic_regression.coef_ - ci_lower]\n",
    "print(f'My confidence interval is between {boot_ci[0]} and {boot_ci[1]}')"
   ]
  },
  {
   "cell_type": "markdown",
   "metadata": {
    "id": "im0IM5GVV5M3"
   },
   "source": [
    "**Written Answer:**\n"
   ]
  }
 ],
 "metadata": {
  "colab": {
   "name": "SE-4460-MidtermSolutions.ipynb",
   "provenance": []
  },
  "kernelspec": {
   "display_name": "Python 3 (ipykernel)",
   "language": "python",
   "name": "python3"
  },
  "language_info": {
   "codemirror_mode": {
    "name": "ipython",
    "version": 3
   },
   "file_extension": ".py",
   "mimetype": "text/x-python",
   "name": "python",
   "nbconvert_exporter": "python",
   "pygments_lexer": "ipython3",
   "version": "3.9.13"
  }
 },
 "nbformat": 4,
 "nbformat_minor": 1
}
