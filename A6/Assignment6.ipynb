{
 "cells": [
  {
   "cell_type": "markdown",
   "metadata": {
    "id": "fykhFKa3Ulnh"
   },
   "source": [
    "# Assignment 6 \n"
   ]
  },
  {
   "cell_type": "markdown",
   "metadata": {
    "id": "370AKC5oUxsB"
   },
   "source": [
    "This notebook contains the questions for Assignment 6. \n",
    "\n",
    "Please note, a random seed has been set to ensure the reproducibility of the results -- *DO NOT* change this random seed. **If you call additional functions that are based on random number generators, you will need to define their seed to 42 as well**. \n",
    "\n",
    "Make sure to complete this assignment individually and appropriately reference all external code and documentation used. ***In order for your submission to be valid, you must adhere to the function definitions which have been made (failure to do so will result in a grade of 0). You must upload this completed Jupyter Notebook file as your submission (other file types are not permitted and will result in a grade of 0).*** You are responsible for selecting and importing additional packages."
   ]
  },
  {
   "cell_type": "code",
   "execution_count": 25,
   "metadata": {
    "id": "45VAP00lUkc5",
    "ExecuteTime": {
     "end_time": "2023-11-23T23:21:15.811276Z",
     "start_time": "2023-11-23T23:21:15.752077Z"
    }
   },
   "outputs": [],
   "source": [
    "import numpy as np\n",
    "np.random.seed(42)"
   ]
  },
  {
   "cell_type": "code",
   "execution_count": 26,
   "metadata": {
    "id": "e9fI_lLV3MhP",
    "ExecuteTime": {
     "end_time": "2023-11-23T23:21:15.859980Z",
     "start_time": "2023-11-23T23:21:15.760507Z"
    }
   },
   "outputs": [],
   "source": [
    "import os\n",
    "import pandas as pd\n",
    "from sklearn.model_selection import train_test_split, GridSearchCV\n",
    "from sklearn.pipeline import Pipeline\n",
    "from sklearn.ensemble import RandomForestClassifier,BaggingClassifier\n",
    "from sklearn.tree import DecisionTreeClassifier\n",
    "from sklearn.decomposition import PCA\n",
    "from sklearn.preprocessing import StandardScaler\n",
    "from sklearn.metrics import classification_report, accuracy_score, f1_score, recall_score, precision_score, confusion_matrix\n",
    "import time"
   ]
  },
  {
   "cell_type": "markdown",
   "metadata": {
    "id": "3YmD_jy2VkV5"
   },
   "source": [
    "## Dataset Description\n",
    "\n",
    "Attached with the assignment instructions, you will find the datasets.zip file. After unzipping the file, you will find two .csv files, where each file represents real-world measurement data of a heat experiment inside a steel furnace. \"normal.csv\" has all the normal experimental samples, while \"anomalous.csv\" has all the abnormal experimental samples.\n",
    "\n",
    "In the datasets, the features are the vibration measurements in columns A, B, ... , H, which correspond to (X1, X2, ... , X8) measurement signals. Each feature represents a vibration signal inside the furnace at several frequency bands. Each example is a measurement recorded at a time instance (Timestamp), which are considered time-series data measurements."
   ]
  },
  {
   "cell_type": "markdown",
   "metadata": {
    "id": "UD1u-9MwVY5k"
   },
   "source": [
    "## Question 1 - Data Preparations [10 Marks]\n",
    "\n",
    "A) Read \"normal.csv\" as a pandas dataframe \"normalData\", and print out the shape of the normal dataset.\n",
    "\n",
    "B) Read \"anomalous.csv\" as a pandas dataframe \"anomalousData\", and print out the shape of the nomalous dataset.\n"
   ]
  },
  {
   "cell_type": "code",
   "execution_count": 27,
   "metadata": {
    "id": "VYa70oGzXmbl",
    "ExecuteTime": {
     "end_time": "2023-11-23T23:21:15.896579Z",
     "start_time": "2023-11-23T23:21:15.768496Z"
    }
   },
   "outputs": [
    {
     "name": "stdout",
     "output_type": "stream",
     "text": [
      "(76593, 10)\n"
     ]
    },
    {
     "data": {
      "text/plain": "   Timestamp       X1       X2      X3      X4       X5       X6      X7  \\\n0        622  0.42051  0.73265  6.0160  1.4258  0.22390  0.44638  4.9892   \n1        623  0.41743  0.72691  6.0102  1.4259  0.21750  0.44326  5.0469   \n2        624  0.41608  0.72337  6.0093  1.4254  0.21875  0.44661  5.0830   \n3        625  0.41517  0.72154  6.0002  1.4261  0.23488  0.46345  4.9672   \n4        626  0.41376  0.71773  5.9814  1.4257  0.25363  0.48208  4.8346   \n\n       X8  Anomaly_Tag  \n0  1.3106            0  \n1  1.3243            0  \n2  1.3227            0  \n3  1.3509            0  \n4  1.3580            0  ",
      "text/html": "<div>\n<style scoped>\n    .dataframe tbody tr th:only-of-type {\n        vertical-align: middle;\n    }\n\n    .dataframe tbody tr th {\n        vertical-align: top;\n    }\n\n    .dataframe thead th {\n        text-align: right;\n    }\n</style>\n<table border=\"1\" class=\"dataframe\">\n  <thead>\n    <tr style=\"text-align: right;\">\n      <th></th>\n      <th>Timestamp</th>\n      <th>X1</th>\n      <th>X2</th>\n      <th>X3</th>\n      <th>X4</th>\n      <th>X5</th>\n      <th>X6</th>\n      <th>X7</th>\n      <th>X8</th>\n      <th>Anomaly_Tag</th>\n    </tr>\n  </thead>\n  <tbody>\n    <tr>\n      <th>0</th>\n      <td>622</td>\n      <td>0.42051</td>\n      <td>0.73265</td>\n      <td>6.0160</td>\n      <td>1.4258</td>\n      <td>0.22390</td>\n      <td>0.44638</td>\n      <td>4.9892</td>\n      <td>1.3106</td>\n      <td>0</td>\n    </tr>\n    <tr>\n      <th>1</th>\n      <td>623</td>\n      <td>0.41743</td>\n      <td>0.72691</td>\n      <td>6.0102</td>\n      <td>1.4259</td>\n      <td>0.21750</td>\n      <td>0.44326</td>\n      <td>5.0469</td>\n      <td>1.3243</td>\n      <td>0</td>\n    </tr>\n    <tr>\n      <th>2</th>\n      <td>624</td>\n      <td>0.41608</td>\n      <td>0.72337</td>\n      <td>6.0093</td>\n      <td>1.4254</td>\n      <td>0.21875</td>\n      <td>0.44661</td>\n      <td>5.0830</td>\n      <td>1.3227</td>\n      <td>0</td>\n    </tr>\n    <tr>\n      <th>3</th>\n      <td>625</td>\n      <td>0.41517</td>\n      <td>0.72154</td>\n      <td>6.0002</td>\n      <td>1.4261</td>\n      <td>0.23488</td>\n      <td>0.46345</td>\n      <td>4.9672</td>\n      <td>1.3509</td>\n      <td>0</td>\n    </tr>\n    <tr>\n      <th>4</th>\n      <td>626</td>\n      <td>0.41376</td>\n      <td>0.71773</td>\n      <td>5.9814</td>\n      <td>1.4257</td>\n      <td>0.25363</td>\n      <td>0.48208</td>\n      <td>4.8346</td>\n      <td>1.3580</td>\n      <td>0</td>\n    </tr>\n  </tbody>\n</table>\n</div>"
     },
     "execution_count": 27,
     "metadata": {},
     "output_type": "execute_result"
    }
   ],
   "source": [
    "### Q1A) - 5pts\n",
    "normalData = pd.read_csv('datasets/normal.csv')\n",
    "print(normalData.shape)\n",
    "normalData.head()"
   ]
  },
  {
   "cell_type": "code",
   "execution_count": 28,
   "metadata": {
    "id": "T2EbZ-FwYIGl",
    "ExecuteTime": {
     "end_time": "2023-11-23T23:21:15.947148Z",
     "start_time": "2023-11-23T23:21:15.874618Z"
    }
   },
   "outputs": [
    {
     "name": "stdout",
     "output_type": "stream",
     "text": [
      "(2599, 10)\n"
     ]
    },
    {
     "data": {
      "text/plain": "   Timestamp       X1      X2      X3      X4       X5       X6      X7  \\\n0       1378  0.76356  6.0467  391.61  523.48  0.92730  1.51430  6.5917   \n1       1379  0.76313  6.0146  389.44  519.34  0.91443  1.42520  6.6227   \n2       1382  0.73073  5.8869  380.79  500.64  0.52303  0.97201  6.8065   \n3       1383  0.72927  5.8573  377.56  495.20  0.57328  1.00660  6.7078   \n4       1384  0.72876  5.8050  373.35  488.55  0.57355  1.00810  6.5600   \n\n       X8  Anomaly_Tag  \n0  2.5061            1  \n1  2.5104            1  \n2  2.6115            1  \n3  2.5449            1  \n4  2.4355            1  ",
      "text/html": "<div>\n<style scoped>\n    .dataframe tbody tr th:only-of-type {\n        vertical-align: middle;\n    }\n\n    .dataframe tbody tr th {\n        vertical-align: top;\n    }\n\n    .dataframe thead th {\n        text-align: right;\n    }\n</style>\n<table border=\"1\" class=\"dataframe\">\n  <thead>\n    <tr style=\"text-align: right;\">\n      <th></th>\n      <th>Timestamp</th>\n      <th>X1</th>\n      <th>X2</th>\n      <th>X3</th>\n      <th>X4</th>\n      <th>X5</th>\n      <th>X6</th>\n      <th>X7</th>\n      <th>X8</th>\n      <th>Anomaly_Tag</th>\n    </tr>\n  </thead>\n  <tbody>\n    <tr>\n      <th>0</th>\n      <td>1378</td>\n      <td>0.76356</td>\n      <td>6.0467</td>\n      <td>391.61</td>\n      <td>523.48</td>\n      <td>0.92730</td>\n      <td>1.51430</td>\n      <td>6.5917</td>\n      <td>2.5061</td>\n      <td>1</td>\n    </tr>\n    <tr>\n      <th>1</th>\n      <td>1379</td>\n      <td>0.76313</td>\n      <td>6.0146</td>\n      <td>389.44</td>\n      <td>519.34</td>\n      <td>0.91443</td>\n      <td>1.42520</td>\n      <td>6.6227</td>\n      <td>2.5104</td>\n      <td>1</td>\n    </tr>\n    <tr>\n      <th>2</th>\n      <td>1382</td>\n      <td>0.73073</td>\n      <td>5.8869</td>\n      <td>380.79</td>\n      <td>500.64</td>\n      <td>0.52303</td>\n      <td>0.97201</td>\n      <td>6.8065</td>\n      <td>2.6115</td>\n      <td>1</td>\n    </tr>\n    <tr>\n      <th>3</th>\n      <td>1383</td>\n      <td>0.72927</td>\n      <td>5.8573</td>\n      <td>377.56</td>\n      <td>495.20</td>\n      <td>0.57328</td>\n      <td>1.00660</td>\n      <td>6.7078</td>\n      <td>2.5449</td>\n      <td>1</td>\n    </tr>\n    <tr>\n      <th>4</th>\n      <td>1384</td>\n      <td>0.72876</td>\n      <td>5.8050</td>\n      <td>373.35</td>\n      <td>488.55</td>\n      <td>0.57355</td>\n      <td>1.00810</td>\n      <td>6.5600</td>\n      <td>2.4355</td>\n      <td>1</td>\n    </tr>\n  </tbody>\n</table>\n</div>"
     },
     "execution_count": 28,
     "metadata": {},
     "output_type": "execute_result"
    }
   ],
   "source": [
    "### Q1B) - 5pts\n",
    "anomalousData = pd.read_csv('datasets/anomalous.csv')\n",
    "print(anomalousData.shape)\n",
    "anomalousData.head()"
   ]
  },
  {
   "cell_type": "markdown",
   "metadata": {
    "id": "A2LBEIAJYQV1"
   },
   "source": [
    "## Question 2 - Supervised Learning Algorithms [50 Marks]\n",
    "\n",
    "A) Complete the myTrainTestSplit function, which takes as input **two dataframes** consisting of the normal and anomalous datasets, reserves 30 percent of each dataframe for testing and **returns 4 variables, Xtrain, Xtest, ytrain, and ytest**. \n",
    "\n",
    "*Note: you can use `concat` from pandas library to concatenade trainig sets from two dataframes, and test sets from two dataframes.*\n",
    "\n",
    "\n",
    "B) Apply a Decision Tree model for classifying the events as normal or anomalous. Fill in the myDecisionTree function, which accepts as input the training set and returns a fully trained model. \n",
    "\n",
    "C) Apply a Bagging model that consists of 10 base decision trees for classifying the events as normal or anomalous. Fill in the myBagging function, which accepts as input the training set and returns a fully trained model. \n",
    "\n",
    "D) Apply a Random Forest model that consists of 10 base decision trees for classifying the events as normal or anomalous. Fill in the myRandomForest function, which accepts as input the training set and returns a fully trained model. \n",
    "\n",
    "E) Based on the trained Random Forest model from 2D, use a horizontal bar plot to plot the feature importance scores of all features (Timestamp, X1-X8).\n",
    "\n",
    "F) Fill in the myEvaluateSupervisedModelPerformance function, which takes as input the training and test sets. Please note, you will need to call your functions from 2B, 2C, and 2D within this function to train your models. \n",
    "- Calculate the training time for comparing models. \n",
    "- Evaluate the performance of your models using 3 metrics of `Recall`, `Preceision` and `f1 score`. Return three numpy arrays consisting of the three metrics calculated for each model on the test set and print them out. \n",
    "- Also, print out the confusion matrix of your three models on the test set. \n",
    "\n",
    "G) **Written Answer** - Use the markdown cell to answer the following:\n",
    "- Justify the choice of three metrics for the evaluation of the model's performance.\n",
    "- Compare the performance and training time of the Decision Tree and Bagging models and discuss the reasons for the performance difference.\n",
    "- Compare the performance and training time of the Bagging and Random Forest models and discuss the reasons for the performance difference."
   ]
  },
  {
   "cell_type": "code",
   "execution_count": 29,
   "metadata": {
    "id": "7kC7gNWGQbC1",
    "ExecuteTime": {
     "end_time": "2023-11-23T23:21:15.972532Z",
     "start_time": "2023-11-23T23:21:15.899957Z"
    }
   },
   "outputs": [],
   "source": [
    "### Q2A) - 5pts \n",
    "def myTrainTestSplit(df1 ,df2):\n",
    "    X1 = df1.drop(columns=['Anomaly_Tag'])\n",
    "    y1 = df1['Anomaly_Tag']\n",
    "    \n",
    "    X2 = df2.drop(columns=['Anomaly_Tag'])\n",
    "    y2 = df2['Anomaly_Tag']\n",
    "    \n",
    "    Xtrain1, Xtest1, ytrain1, ytest1 = train_test_split(X1, y1, test_size=0.3, random_state=42)\n",
    "    Xtrain2, Xtest2, ytrain2, ytest2 = train_test_split(X2, y2, test_size=0.3, random_state=42)\n",
    "    \n",
    "    Xtrain = pd.concat([Xtrain1, Xtrain2], ignore_index=True)\n",
    "    Xtest = pd.concat([Xtest1, Xtest2], ignore_index=True)\n",
    "    ytrain = pd.concat([ytrain1, ytrain2], ignore_index=True)\n",
    "    ytest = pd.concat([ytest1, ytest2], ignore_index=True)\n",
    "    \n",
    "    return Xtrain, Xtest, ytrain, ytest\n",
    "\n",
    "Xtrain, Xtest, ytrain, ytest = myTrainTestSplit(normalData, anomalousData)"
   ]
  },
  {
   "cell_type": "code",
   "execution_count": 30,
   "metadata": {
    "ExecuteTime": {
     "end_time": "2023-11-23T23:21:15.992967Z",
     "start_time": "2023-11-23T23:21:15.927287Z"
    }
   },
   "outputs": [],
   "source": [
    "### Q2B) - 5pts\n",
    "def myDecisionTree(Xtrain, ytrain):\n",
    "    model = DecisionTreeClassifier(random_state=42)\n",
    "    model.fit(Xtrain, ytrain)\n",
    "    return model\n"
   ]
  },
  {
   "cell_type": "code",
   "execution_count": 31,
   "metadata": {
    "ExecuteTime": {
     "end_time": "2023-11-23T23:21:15.994821Z",
     "start_time": "2023-11-23T23:21:15.932434Z"
    }
   },
   "outputs": [],
   "source": [
    "### Q2C) - 5pts\n",
    "def myBagging(Xtrain, ytrain):\n",
    "    base_model = DecisionTreeClassifier(random_state=42)\n",
    "    model = BaggingClassifier(base_model, n_estimators=10, random_state=42)\n",
    "    model.fit(Xtrain, ytrain)\n",
    "    return model\n"
   ]
  },
  {
   "cell_type": "code",
   "execution_count": 32,
   "metadata": {
    "id": "Rdw3xDzGZdAb",
    "ExecuteTime": {
     "end_time": "2023-11-23T23:21:17.259525Z",
     "start_time": "2023-11-23T23:21:15.955146Z"
    }
   },
   "outputs": [],
   "source": [
    "### Q2D) - 5pts\n",
    "def myRandomForest(Xtrain, ytrain):\n",
    "    model = RandomForestClassifier(n_estimators=10, random_state=42)\n",
    "    model.fit(Xtrain, ytrain)\n",
    "    return model\n",
    "\n",
    "random_forest = myRandomForest(Xtrain, ytrain)"
   ]
  },
  {
   "cell_type": "code",
   "execution_count": 33,
   "metadata": {
    "ExecuteTime": {
     "end_time": "2023-11-23T23:21:17.431643Z",
     "start_time": "2023-11-23T23:21:17.261175Z"
    }
   },
   "outputs": [
    {
     "data": {
      "text/plain": "<Figure size 640x480 with 1 Axes>",
      "image/png": "[encoded data removed]"
     },
     "metadata": {},
     "output_type": "display_data"
    }
   ],
   "source": [
    "from matplotlib import pyplot as plt\n",
    "\n",
    "### Q2E) - 10pts\n",
    "feature_importance = random_forest.feature_importances_\n",
    "features = Xtrain.columns\n",
    "\n",
    "plt.barh(features, feature_importance)\n",
    "plt.xlabel('Feature Importance Score')\n",
    "plt.show()"
   ]
  },
  {
   "cell_type": "code",
   "execution_count": 34,
   "metadata": {
    "scrolled": false,
    "ExecuteTime": {
     "end_time": "2023-11-23T23:21:21.440481Z",
     "start_time": "2023-11-23T23:21:17.437218Z"
    }
   },
   "outputs": [
    {
     "name": "stdout",
     "output_type": "stream",
     "text": [
      "Decision Tree model took 0.42627620697021484 sec to train\n",
      "Bagging model took 2.4265222549438477 sec to train\n",
      "Random Forest model took 1.018664836883545 sec to train\n",
      "\n",
      "Decision Tree:\n",
      "Recall: 0.9141025641025641\n",
      "Precision: 0.8991172761664565\n",
      "F1 Score: 0.9065479974570884\n",
      "Confusion Matrix:\n",
      "[[22898    80]\n",
      " [   67   713]]\n",
      "\n",
      "Bagging Model:\n",
      "Recall: 0.9217948717948717\n",
      "Precision: 0.9809004092769441\n",
      "F1 Score: 0.9504296100462657\n",
      "Confusion Matrix:\n",
      "[[22964    14]\n",
      " [   61   719]]\n",
      "\n",
      "Random Forest:\n",
      "Recall: 0.882051282051282\n",
      "Precision: 0.9927849927849928\n",
      "F1 Score: 0.9341479972844535\n",
      "Confusion Matrix:\n",
      "[[22973     5]\n",
      " [   92   688]]\n"
     ]
    }
   ],
   "source": [
    "### Q2F) - 10pts\n",
    "def myEvaluateSupervisedModelPerformance(Xtrain, ytrain, Xtest, ytest):\n",
    "    # Decision Tree\n",
    "    t0_dt = time.time()\n",
    "    model_dt = myDecisionTree(Xtrain, ytrain)\n",
    "    t1_dt = time.time()\n",
    "    \n",
    "    ypred_dt = model_dt.predict(Xtest)\n",
    "    dt_rscore = recall_score(ytest, ypred_dt)\n",
    "    dt_pscore = precision_score(ytest, ypred_dt)\n",
    "    dt_f1score = f1_score(ytest, ypred_dt) \n",
    "    dt_cm = confusion_matrix(ytest, ypred_dt)\n",
    "    \n",
    "    # Bagging Model\n",
    "    t0_bm = time.time()\n",
    "    model_bm = myBagging(Xtrain, ytrain)\n",
    "    t1_bm = time.time()\n",
    "    \n",
    "    ypred_bm = model_bm.predict(Xtest)\n",
    "    bm_rscore = recall_score(ytest, ypred_bm)\n",
    "    bm_pscore = precision_score(ytest, ypred_bm)\n",
    "    bm_f1score = f1_score(ytest, ypred_bm) \n",
    "    bm_cm = confusion_matrix(ytest, ypred_bm)\n",
    "    \n",
    "    # Random Forest\n",
    "    t0_rf = time.time()\n",
    "    model_rf = myRandomForest(Xtrain, ytrain)\n",
    "    t1_rf = time.time()\n",
    "    \n",
    "    ypred_rf = model_rf.predict(Xtest)\n",
    "    rf_rscore = recall_score(ytest, ypred_rf)\n",
    "    rf_pscore = precision_score(ytest, ypred_rf)\n",
    "    rf_f1score = f1_score(ytest, ypred_rf) \n",
    "    rf_cm = confusion_matrix(ytest, ypred_rf)\n",
    "    \n",
    "    print(f'Decision Tree model took {t1_dt - t0_dt} sec to train')\n",
    "    print(f'Bagging model took {t1_bm - t0_bm} sec to train')\n",
    "    print(f'Random Forest model took {t1_rf - t0_rf} sec to train')\n",
    "    \n",
    "    print('\\nDecision Tree:')\n",
    "    print(f'Recall: {dt_rscore}')\n",
    "    print(f'Precision: {dt_pscore}')\n",
    "    print(f'F1 Score: {dt_f1score}')\n",
    "    print('Confusion Matrix:')\n",
    "    print(dt_cm)\n",
    "    \n",
    "    print('\\nBagging Model:')\n",
    "    print(f'Recall: {bm_rscore}')\n",
    "    print(f'Precision: {bm_pscore}')\n",
    "    print(f'F1 Score: {bm_f1score}')\n",
    "    print('Confusion Matrix:')\n",
    "    print(bm_cm)\n",
    "    \n",
    "    print('\\nRandom Forest:')\n",
    "    print(f'Recall: {rf_rscore}')\n",
    "    print(f'Precision: {rf_pscore}')\n",
    "    print(f'F1 Score: {rf_f1score}')\n",
    "    print('Confusion Matrix:')\n",
    "    print(rf_cm)\n",
    "    \n",
    "    return np.array([dt_rscore, bm_rscore, rf_rscore]), np.array([dt_pscore, bm_pscore, rf_pscore]), np.array([dt_f1score, bm_f1score, rf_f1score])\n",
    "\n",
    "recalls, precisions, f1_scores = myEvaluateSupervisedModelPerformance(Xtrain, ytrain, Xtest, ytest)"
   ]
  },
  {
   "cell_type": "markdown",
   "metadata": {},
   "source": [
    "#### Q2G) - 10 pts\n",
    "\n",
    "**Witten Answer:** The recall metric is used because, it helps in assessing the model's ability to identify as many anomalous events as possible. Precision provides an indication of how many of the predicted positive instances are truly anomalous. The F1 score provides an in between and is a good overall measure of the model's performance.\n",
    "\n",
    "The Bagging model shows higher recall, precision, and F1 score compared to the Decision Tree model. The bagging model helps reduce overfitting by training multiple base models on different subsets of the training data and aggregating their predictions.\n",
    "\n",
    "Random Forest achieved comparable performance to Bagging with a shorter training time. Random Forest introduces additional randomness through feature selection, contributing to its efficiency."
   ]
  },
  {
   "cell_type": "markdown",
   "metadata": {},
   "source": [
    "## Question 3 - Dimensionality Reduction [40 Marks]\n",
    "\n",
    "A) Build the pipeline that uses a Principal Component Analysis (PCA) model to extract 2 principal components of the training set and create a a Random Forest model that consists of 50 base decision trees (same as the model in 2D).  Fill in the myPCARF function, which accepts as input the training set and returns a fully trained model. \n",
    "\n",
    "B) Fill in the myEvaluateUnsupervisedModelPerformance function, which takes as input the training and test sets. Please note, you will need to call your functions from 3A within this function to train your models. \n",
    "- Calculate the training time for comparing models. \n",
    "- Evaluate the performance of your model on the test set using the 3 same metrics from 2F. Return three numpy arrays consisting of the three metrics calculated for the model and print them out. \n",
    "- Also, print out the confusion matrix of your model on the test set. \n",
    "\n",
    "*Note: This function can be the same as the function from 2F, but remember to change the model name.*\n",
    "\n",
    "C) **Written Answer** - Use the markdown cell to answer the following:\n",
    "- Compare the performance and training time of PCA + Random Forest model from 3A and the Random Forest model from 2D, and discuss the reasons for the performance difference."
   ]
  },
  {
   "cell_type": "code",
   "execution_count": 35,
   "metadata": {
    "ExecuteTime": {
     "end_time": "2023-11-23T23:21:21.441179Z",
     "start_time": "2023-11-23T23:21:21.436570Z"
    }
   },
   "outputs": [],
   "source": [
    "### Q3A) - 10pts\n",
    "def myPCARF(Xtrain, ytrain):\n",
    "    pipeline = Pipeline([\n",
    "        ('pca', PCA(n_components=2, random_state=42)),\n",
    "        ('random_forest', RandomForestClassifier(n_estimators=10, random_state=42))\n",
    "    ])\n",
    "    pipeline.fit(Xtrain, ytrain)\n",
    "    return pipeline"
   ]
  },
  {
   "cell_type": "code",
   "execution_count": 36,
   "metadata": {
    "colab": {
     "base_uri": "https://localhost:8080/"
    },
    "id": "ldPs5xBRa7Q5",
    "outputId": "223857e9-24a7-4889-b543-1300726f575f",
    "ExecuteTime": {
     "end_time": "2023-11-23T23:21:22.057018Z",
     "start_time": "2023-11-23T23:21:21.441431Z"
    }
   },
   "outputs": [
    {
     "name": "stdout",
     "output_type": "stream",
     "text": [
      "PCA Random Forest model took 0.5593910217285156 sec to train\n",
      "Recall: 0.39871794871794874\n",
      "Precision: 0.6775599128540305\n",
      "F1 Score: 0.5020177562550444\n",
      "Confusion Matrix:\n",
      "[[22830   148]\n",
      " [  469   311]]\n"
     ]
    }
   ],
   "source": [
    "### Q3B) - 5pts\n",
    "def myEvaluateUnsupervisedModelPerformance(Xtrain, ytrain, Xtest, ytest):\n",
    "    t0_pca_rf = time.time()\n",
    "    model_pca_rf = myPCARF(Xtrain, ytrain)\n",
    "    t1_pca_rf = time.time()\n",
    "    \n",
    "    ypred_pca_rf = model_pca_rf.predict(Xtest)\n",
    "    pca_rf_rscore = recall_score(ytest, ypred_pca_rf)\n",
    "    pca_rf_pscore = precision_score(ytest, ypred_pca_rf)\n",
    "    pca_rf_f1score = f1_score(ytest, ypred_pca_rf) \n",
    "    pca_rf_cm = confusion_matrix(ytest, ypred_pca_rf)\n",
    "    \n",
    "    print(f'PCA Random Forest model took {t1_pca_rf - t0_pca_rf} sec to train')\n",
    "    print(f'Recall: {pca_rf_rscore}')\n",
    "    print(f'Precision: {pca_rf_pscore}')\n",
    "    print(f'F1 Score: {pca_rf_f1score}')\n",
    "    print('Confusion Matrix:')\n",
    "    print(pca_rf_cm)\n",
    "    \n",
    "    return np.array([pca_rf_rscore, pca_rf_pscore, pca_rf_f1score])\n",
    "\n",
    "scores = myEvaluateUnsupervisedModelPerformance(Xtrain, ytrain, Xtest, ytest)"
   ]
  },
  {
   "cell_type": "markdown",
   "metadata": {
    "id": "ttLtyLi1b0IE"
   },
   "source": [
    "#### Q3C) - 10 pts\n",
    "\n",
    "**Written Answer:** The model from 2D took significantly less time to train, and performed much better than the model in 3A on the recall, precision, and F1 score. PCA is for dimensionality reduction, and reducing the feature space can lead to information loss."
   ]
  }
 ],
 "metadata": {
  "colab": {
   "collapsed_sections": [
    "3YmD_jy2VkV5",
    "ttLtyLi1b0IE",
    "tLUT1nMwdYKw"
   ],
   "name": "ECE9309_9039_Assignment2_2022.ipynb",
   "provenance": []
  },
  "kernelspec": {
   "display_name": "Python 3 (ipykernel)",
   "language": "python",
   "name": "python3"
  },
  "language_info": {
   "codemirror_mode": {
    "name": "ipython",
    "version": 3
   },
   "file_extension": ".py",
   "mimetype": "text/x-python",
   "name": "python",
   "nbconvert_exporter": "python",
   "pygments_lexer": "ipython3",
   "version": "3.9.13"
  }
 },
 "nbformat": 4,
 "nbformat_minor": 1
}
