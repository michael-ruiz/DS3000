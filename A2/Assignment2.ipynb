{
 "cells": [
  {
   "cell_type": "markdown",
   "metadata": {
    "id": "FK-Nm7jB-gbE"
   },
   "source": [
    "# Assignment 2"
   ]
  },
  {
   "cell_type": "markdown",
   "metadata": {
    "id": "ZVeTZSjF-n1O"
   },
   "source": [
    "# Grade: /100\n",
    "\n",
    "## Instructions\n",
    "\n",
    "* Complete the Lab assignment\n",
    "\n",
    "* Once the notebook is complete, restart your kernel and rerun your cells\n",
    "\n",
    "* Submit this notebook to owl by the deadline\n",
    "\n",
    "* You may use any python library functions you wish to complete the Lab assignment.\n",
    "\n",
    "\n",
    "\n",
    "This notebook contains the questions for Assignment 2. Please note, a random seed has been set to ensure the reproducability of the results -- *DO NOT* change this random seed. **If you call additional functions that are based on random number generators, you will need to define their seed to 42 as well**. Make sure to complete this assignment individually and appropriately reference all external code and documentation used. "
   ]
  },
  {
   "cell_type": "code",
   "execution_count": 13,
   "metadata": {
    "ExecuteTime": {
     "end_time": "2023-10-12T21:24:15.643148Z",
     "start_time": "2023-10-12T21:24:15.584111Z"
    },
    "id": "YMSsKHC8AAjq"
   },
   "outputs": [],
   "source": [
    "import matplotlib\n",
    "import matplotlib.pyplot as plt \n",
    "%matplotlib inline\n",
    "import pandas as pd \n",
    "import numpy as np\n",
    "import seaborn as sns\n",
    "\n",
    "from sklearn.model_selection import train_test_split, cross_val_score\n",
    "from sklearn.pipeline import Pipeline\n",
    "from sklearn.linear_model import LinearRegression, Lasso, Ridge, LogisticRegression\n",
    "from sklearn.svm import LinearSVC\n",
    "from sklearn.preprocessing import PolynomialFeatures, StandardScaler\n",
    "from sklearn.metrics import make_scorer, mean_absolute_error, r2_score, accuracy_score, precision_score\n",
    "\n",
    "np.random.seed(42)"
   ]
  },
  {
   "cell_type": "markdown",
   "metadata": {
    "id": "6QVsGck9AKsk"
   },
   "source": [
    "## Dataset \n",
    "\n",
    "This assignment's objective is to develop a data-driven predictive model for the power consumption of an industrial refrigeration system using the `Data_Rack01` dataset.  \n",
    "The data frame contains the following data, where each row represents a datapoint:\n",
    "\n",
    "- Dew_Point: the temperature to which air must be cooled to become saturated with water vapor \n",
    "- Indoor_Humidity: The indoor Humidity\n",
    "- Indoor_Temperature: The indoor temprature (Fahrenheit)\n",
    "- Outdoor_Humidity: The outdoor humidity\n",
    "- Outdoor_Temperature: The outdoor temprature (Fahrenheit)\n",
    "- Discharge_Pressure: The pressure generated on the output side of a gas compressor in a refrigeration system\n",
    "- Discharge_Temperature: The compressor's discharge temperature \n",
    "- KW: Power consumed\n",
    "- Power_Factor: The power factor of the refrigeration system\n",
    "- Volts_Line_to_Line\n",
    "- Volts_Line_to_Neutral"
   ]
  },
  {
   "cell_type": "markdown",
   "metadata": {
    "id": "e-_CPHZs_QmP"
   },
   "source": [
    "## Question 1 (40 pts)"
   ]
  },
  {
   "cell_type": "markdown",
   "metadata": {
    "id": "WYC_VhLLAiDJ"
   },
   "source": [
    "### a) Preprocess the data acording to the following:\n",
    "\n",
    "1. Load data into a variable called myData\n",
    "2. In the `myPreProc` function perform the following:\n",
    "  - Remove the empty column(s), \n",
    "  - Drop rows with any missing data (\"NA\").\n",
    "  - Remove the 'DeviceName' column as well\n",
    "\n",
    "The processed data should be returned through the function variable `procData`\n",
    "\n"
   ]
  },
  {
   "cell_type": "code",
   "execution_count": 14,
   "metadata": {
    "ExecuteTime": {
     "end_time": "2023-10-12T21:24:15.729592Z",
     "start_time": "2023-10-12T21:24:15.591910Z"
    },
    "id": "idO1fKVYAS2T"
   },
   "outputs": [],
   "source": [
    "#Part 1a\n",
    "#load data\n",
    "myData = pd.read_csv('Data_Rack01.csv')\n",
    "\n",
    "def myPreProc(data):\n",
    "    procData = data.drop(['Discharge_Pressure', 'DeviceName'], axis=1)\n",
    "    procData = procData.dropna()\n",
    "    return procData\n",
    "\n",
    "myData = myPreProc(myData)\n"
   ]
  },
  {
   "cell_type": "markdown",
   "metadata": {},
   "source": [
    "### b) Define two loss functions:\n",
    "- one that measures the absolute difference between observations and predictions. Return mean and standard deviation of the result.\n",
    "- one that finds the absolute difference that is less than or equal to a threshold. Return mean and standard deviation of the result.\n",
    "\n"
   ]
  },
  {
   "cell_type": "code",
   "execution_count": 15,
   "metadata": {
    "ExecuteTime": {
     "end_time": "2023-10-12T21:24:15.730405Z",
     "start_time": "2023-10-12T21:24:15.636305Z"
    },
    "id": "lz5d_U-mDRmL"
   },
   "outputs": [],
   "source": [
    "#Part 1b\n",
    "def abs_diff_loss(obs, pred):\n",
    "    resids = abs(obs - pred)\n",
    "    return resids.mean(), resids.std(ddof=1)\n",
    "    \n",
    "def threshold_loss(obs, pred, thresh):\n",
    "    resids = abs(obs - pred) <= thresh\n",
    "    resids = resids.astype(int)\n",
    "    return resids.mean(), resids.std(ddof=1)\n"
   ]
  },
  {
   "cell_type": "markdown",
   "metadata": {},
   "source": [
    "### c) Data splitting:\n",
    "- Use power consumption as the target variable for your machine learning model. \n",
    "- Split your preprocessed dataset by setting aside some amount of data for testing, and retaining the rest for training. Reserve 30 percent of your data for testing. *Make sure to set the random_state to 42 if you are using an sklearn function to accomplish this. \n"
   ]
  },
  {
   "cell_type": "code",
   "execution_count": 16,
   "metadata": {
    "ExecuteTime": {
     "end_time": "2023-10-12T21:24:15.733125Z",
     "start_time": "2023-10-12T21:24:15.642371Z"
    },
    "id": "U8Du1o0UEs4D"
   },
   "outputs": [],
   "source": [
    "#Part 1c\n",
    "X = myData.drop(['kW'], axis=1)\n",
    "y = myData.loc[:, 'kW']\n",
    "\n",
    "X_train, X_test, y_train, y_test = train_test_split(X, y, test_size=0.3, random_state=42)\n"
   ]
  },
  {
   "cell_type": "markdown",
   "metadata": {},
   "source": [
    "### d) Build a linear regression model:\n",
    "- Using Ordinary Least Squares, build a model to predict power consumed (KW) as a `linear function` of the other variables (features) in the dataset. In order to properly build the regression model, the features need to be `standardized` so that no feature can dominate others in determining the prediction values due to differences in feature scales. Build a `pipeline` that **standardizes the features** and **creates a linear regression model**.\n",
    "- Report the coefficient of determination (`R2 score`) when evaluating both the training and testing performance of your model."
   ]
  },
  {
   "cell_type": "code",
   "execution_count": 17,
   "metadata": {
    "ExecuteTime": {
     "end_time": "2023-10-12T21:24:15.733897Z",
     "start_time": "2023-10-12T21:24:15.657437Z"
    },
    "id": "AatCUdd2FuRh"
   },
   "outputs": [
    {
     "name": "stdout",
     "output_type": "stream",
     "text": [
      "R2 score: 0.4240761933328049\n"
     ]
    }
   ],
   "source": [
    "#Part 1d\n",
    "pipeline = Pipeline([\n",
    "    ('scale', StandardScaler()),\n",
    "    ('linear_regression', LinearRegression())\n",
    "])\n",
    "\n",
    "pipeline.fit(X_train, y_train)\n",
    "y_pred = pipeline.predict(X_test)\n",
    "\n",
    "r2 = r2_score(y_test, y_pred)\n",
    "print(f'R2 score: {r2}')\n"
   ]
  },
  {
   "cell_type": "markdown",
   "metadata": {
    "id": "dCjly_Sq_Tpr"
   },
   "source": [
    "## Question 2 - Regularization (25 pts) "
   ]
  },
  {
   "cell_type": "markdown",
   "metadata": {},
   "source": [
    "- Use L2 regularization by adding a penalty of $\\lambda \\sum_{i}{\\beta_i^2}$ (where $\\beta_i$ are your regression coefficients) to the regression model. Vary the regularization parameter $\\lambda$ between 0.2 and 250, evenly spaced in **log-space**, and generate 50 values. \n",
    "- Build the `pipeline` that **standardizes the features** and **create a regularized regression model**.\n",
    "- Determine the 10-fold crossvalidated performance for different values of the L2-regularization parameters. Use the cross-validated R-Squared (R2) of the data under the model as evaluation criterion.  \n",
    "- Make a plot of the cross-validated R-Squared (R2) against $log(\\lambda)$. \n",
    "- Report the best lambda that you found"
   ]
  },
  {
   "cell_type": "code",
   "execution_count": 18,
   "metadata": {
    "ExecuteTime": {
     "end_time": "2023-10-12T21:24:19.590533Z",
     "start_time": "2023-10-12T21:24:15.673544Z"
    }
   },
   "outputs": [
    {
     "name": "stdout",
     "output_type": "stream",
     "text": [
      "Best lambda: 0.19999999999999998\n"
     ]
    },
    {
     "data": {
      "image/png": "[encoded data removed]",
      "text/plain": [
       "<Figure size 768x576 with 1 Axes>"
      ]
     },
     "metadata": {},
     "output_type": "display_data"
    }
   ],
   "source": [
    "regularization_params = np.exp(np.linspace(np.log(0.2), np.log(250), 50))\n",
    "cv_score_mean = np.zeros(regularization_params.size)\n",
    "\n",
    "for i, L in enumerate(regularization_params):\n",
    "    ridge_pipe = Pipeline([\n",
    "    ('scale', StandardScaler()),\n",
    "    ('regression', Ridge(alpha=L, fit_intercept=True)) \n",
    "    ])\n",
    "    \n",
    "    cv_r2_score = cross_val_score(ridge_pipe, X_train, y_train, cv=10, scoring='r2')\n",
    "    cv_score_mean[i]= cv_r2_score.mean()\n",
    "    \n",
    "fig, ax = plt.subplots(dpi = 120)\n",
    "ax.plot(np.log(regularization_params), cv_score_mean)\n",
    "ax.set_xlabel(r'$\\log(\\lambda)$', fontsize = 16)\n",
    "ax.set_ylabel(r'$R^{2}$', fontsize = 16)\n",
    "\n",
    "best_lamda = np.argmax(cv_score_mean)\n",
    "print(f'Best lambda: {regularization_params[best_lamda]}')\n",
    "    "
   ]
  },
  {
   "cell_type": "markdown",
   "metadata": {
    "id": "qIyWI6Z9_Wt_"
   },
   "source": [
    "## Question 3 - Classification (35 pts)"
   ]
  },
  {
   "cell_type": "markdown",
   "metadata": {
    "id": "EKJyCvu4LC6u"
   },
   "source": [
    "### a) Binary target:\n",
    "- Convert your target variable in the dataset into a binary variable using >= mean thresholding (use the same data split as in Q1 part c). \n"
   ]
  },
  {
   "cell_type": "code",
   "execution_count": 19,
   "metadata": {
    "ExecuteTime": {
     "end_time": "2023-10-12T21:24:19.601924Z",
     "start_time": "2023-10-12T21:24:19.591743Z"
    },
    "id": "s0NJeac3-b_5"
   },
   "outputs": [],
   "source": [
    "#Part 3a\n",
    "mean_threshold = y_train.mean()\n",
    "\n",
    "binary_y_train = y_train >= mean_threshold\n",
    "binary_y_train = binary_y_train.astype(int)\n",
    "\n",
    "binary_y_test = y_test >= mean_threshold\n",
    "binary_y_test = binary_y_test.astype(int)\n"
   ]
  },
  {
   "cell_type": "markdown",
   "metadata": {},
   "source": [
    "### b) Build logistic regression model:\n",
    "- Define a Logistic Regression model and report the resulting *training* precision and *testing* accuracy of your model. Make sure the set the maximum number of iterations for your model to 10000 (use pipeline for normalization and model building same as Questions 1 and 2).\n"
   ]
  },
  {
   "cell_type": "code",
   "execution_count": 20,
   "metadata": {
    "ExecuteTime": {
     "end_time": "2023-10-12T21:24:19.726067Z",
     "start_time": "2023-10-12T21:24:19.603518Z"
    },
    "id": "55duLbGZM8dv"
   },
   "outputs": [
    {
     "name": "stdout",
     "output_type": "stream",
     "text": [
      "Training Precision: 0.8050\n",
      "Testing Accuracy: 0.8021\n"
     ]
    }
   ],
   "source": [
    "#Part 3b\n",
    "lg_pipe = Pipeline([\n",
    "    ('scale', StandardScaler()),\n",
    "    ('classifier', LogisticRegression(max_iter=10000))\n",
    "])\n",
    "\n",
    "lg_pipe.fit(X_train, binary_y_train)\n",
    "train_pred_1 = lg_pipe.predict(X_train)\n",
    "test_pred_1 = lg_pipe.predict(X_test)\n",
    "\n",
    "train_precision_1 = precision_score(binary_y_train, train_pred_1)\n",
    "test_accuracy_1 = accuracy_score(binary_y_test, test_pred_1)\n",
    "\n",
    "print(f\"Training Precision: {train_precision_1:.4f}\")\n",
    "print(f\"Testing Accuracy: {test_accuracy_1:.4f}\")\n"
   ]
  },
  {
   "cell_type": "markdown",
   "metadata": {},
   "source": [
    "### c) Build a Support Vector Machine (SVM) model:\n",
    "- Define a linear SVM model with default options and maximum number of iterations 10000. Report the resulting *training* precision and *testing* accuracy of your model (use pipeline for normalization and model building same as Questions 1 and 2).\n",
    "\n"
   ]
  },
  {
   "cell_type": "code",
   "execution_count": 21,
   "metadata": {
    "ExecuteTime": {
     "end_time": "2023-10-12T21:24:19.749940Z",
     "start_time": "2023-10-12T21:24:19.680638Z"
    }
   },
   "outputs": [
    {
     "name": "stdout",
     "output_type": "stream",
     "text": [
      "Training Precision: 0.8050\n",
      "Testing Accuracy: 0.8021\n"
     ]
    }
   ],
   "source": [
    "#Part 3c\n",
    "svm_pipe = Pipeline([\n",
    "    ('scale', StandardScaler()),\n",
    "    ('classifier', LinearSVC(max_iter=10000))\n",
    "])\n",
    "\n",
    "svm_pipe.fit(X_train, binary_y_train)\n",
    "train_pred_2 = svm_pipe.predict(X_train)\n",
    "test_pred_2 = svm_pipe.predict(X_test)\n",
    "\n",
    "train_precision_2 = precision_score(binary_y_train, train_pred_2)\n",
    "test_accuracy_2 = accuracy_score(binary_y_test, test_pred_2)\n",
    "\n",
    "print(f\"Training Precision: {train_precision_2:.4f}\")\n",
    "print(f\"Testing Accuracy: {test_accuracy_2:.4f}\")"
   ]
  },
  {
   "cell_type": "markdown",
   "metadata": {},
   "source": [
    "### d) Comparison:\n",
    "- Compare the performance of your models in `b` and `c` in terms of generalization performance and execution time, what do you conclude? "
   ]
  },
  {
   "cell_type": "markdown",
   "metadata": {},
   "source": [
    "*Part 3d*\n",
    "\n",
    "`Written Answer:` The training precision and testing accuracy were the same for both models. The only difference I noticed was when using the standard scaler, when the models get standardized the training precision and testing accuracy improve significantly. For the execution time the SVM was slightly slower."
   ]
  },
  {
   "cell_type": "markdown",
   "metadata": {
    "collapsed": false
   },
   "source": []
  }
 ],
 "metadata": {
  "colab": {
   "name": "ECE _9309_Assignment_1_2022_Solutions_and_Tests",
   "provenance": []
  },
  "kernelspec": {
   "display_name": "Python 3 (ipykernel)",
   "language": "python",
   "name": "python3"
  },
  "language_info": {
   "codemirror_mode": {
    "name": "ipython",
    "version": 3
   },
   "file_extension": ".py",
   "mimetype": "text/x-python",
   "name": "python",
   "nbconvert_exporter": "python",
   "pygments_lexer": "ipython3",
   "version": "3.9.13"
  }
 },
 "nbformat": 4,
 "nbformat_minor": 1
}
