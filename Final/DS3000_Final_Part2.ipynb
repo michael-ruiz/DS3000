{
 "cells": [
  {
   "cell_type": "markdown",
   "metadata": {},
   "source": [
    "# Final Exam – Part 2 (60 pts)\n",
    "\n",
    "### Student Name: xxxxxxxx\n",
    "### Student ID: xxxxxxxx\n",
    "\n",
    "## General\n",
    "The instructions for the final exam are included in the cover page shared on OWL. In addion, some basic rules:\n",
    "\n",
    "This part of the exam is **Open Book** and you will answer to the programming questions below on this Jupyter Notebook. You have **2 hours (3:00 pm - 5:00 pm)** to finish the exam and upload your notebook on OWL. \n",
    "* You **are allowed** to use any document and sources on your computer and look up documents on the internet. **You need to cite any code that you use if it is NOT from the course Labs or Tutorial examples**.\n",
    "* You or **NOT allowed** to share documents, or communicate in any other way with people inside/outside of the exam room during the final. Using AI chatbots is **NOT allowed and will be counted as cheating or plagiarism**.\n",
    "* All Figures should have a x-axis and y-axis label.\n",
    "* Add as many cells as you want, whenever you need to. \n",
    "* To finish the exam in the alloted time, you will have to work efficiently. You need to submit the exam Jupyter Notebook by the **due date (Dec 12, 2023 at 5:00 pm)** on **OWL in the Assignments / Final Exam - Part 2** where you downloaded the Dataset and Jupyter Notebook. **Late submission will be scored with 0 pts, unless you have received special accommodations. To avoid technical difficulties, start your submission at latest five to ten minutes before the deadline. To be sure, you can also submit multiple versions - only the latest version will be graded. \n",
    "\n",
    "**Ensure that your code runs correctly by choosing \"Kernel -> Restart and Run All\" before submitting.**\n",
    "\n",
    "### Additional Guidance\n",
    "\n",
    "If at any point you are not sure about the answer, then *write your assumptions clearly in your exam and proceed according to those assumptions.*\n",
    "\n",
    "Good luck!"
   ]
  },
  {
   "cell_type": "code",
   "execution_count": 1,
   "metadata": {
    "ExecuteTime": {
     "end_time": "2023-12-12T21:40:51.029388Z",
     "start_time": "2023-12-12T21:40:37.696940Z"
    }
   },
   "outputs": [
    {
     "name": "stderr",
     "output_type": "stream",
     "text": [
      "2023-12-12 16:40:46.481011: I tensorflow/core/platform/cpu_feature_guard.cc:182] This TensorFlow binary is optimized to use available CPU instructions in performance-critical operations.\n",
      "To enable the following instructions: AVX2 AVX512F AVX512_VNNI FMA, in other operations, rebuild TensorFlow with the appropriate compiler flags.\n"
     ]
    }
   ],
   "source": [
    "## Preliminaries\n",
    "### YOU MAY ADD ADDITIONAL IMPORTS IF YOU WISH\n",
    "import matplotlib.pyplot as plt \n",
    "%matplotlib inline\n",
    "\n",
    "import pandas as pd \n",
    "import numpy as np\n",
    "import seaborn as sns\n",
    "\n",
    "from sklearn.model_selection import train_test_split, GridSearchCV\n",
    "from sklearn.preprocessing import StandardScaler\n",
    "from sklearn.linear_model import LinearRegression, LogisticRegression, Ridge, Lasso, LassoCV\n",
    "from sklearn.ensemble import RandomForestClassifier\n",
    "from sklearn.metrics import mean_squared_error, accuracy_score, f1_score, confusion_matrix, roc_curve, auc, roc_auc_score\n",
    "\n",
    "import time\n",
    "import random\n",
    "\n",
    "import torch\n",
    "import torch.nn as nn\n",
    "import torch.optim as optim\n",
    "from torch.utils.data import DataLoader, TensorDataset\n",
    "\n",
    "\n",
    "# If you prefer to use tensorflow load these libraries:\n",
    "# import tensorflow as tf\n",
    "# from tensorflow.keras.models import Sequential\n",
    "# from tensorflow.keras.layers import Dense\n",
    "# from tensorflow.keras.optimizers import Adam\n"
   ]
  },
  {
   "cell_type": "markdown",
   "metadata": {},
   "source": [
    "## Dataset\n",
    "In this exam, we will work on the network anomaly detection dataset \"IP_Activity_Dataset_5000.csv\". It was generated from web server access logs and collected from a real-world website in Content Delivery Networks (CDNs). Each sample/row in the dataset represents a unique Internet Protocol (IP) address with 9 columns/variables. Each feature/column is a performance indicator that reflect the state or activity of each sample/IP. The IP addresses were masked due to privacy reasons.  \n",
    "\n",
    "### Variables/Features\n",
    "Feature description: \n",
    "1.\t**requests**: the number of requests sent by per IP.\n",
    "2.\t**request-interval**:  the average time interval between consecutive requests sent by per IP. Unit: milliseconds\n",
    "3.\t**request-popularity**: what percentage of the requests sent by per IP are for popular contents.\n",
    "4.\t**bytes**: the average bytes received by per IP after requesting the content.\n",
    "5.\t**delivery-time**: the average request delivery time experienced by per IP. Unit: milliseconds\n",
    "6.\t**hit-rate**: cache hit rate of per IP.\n",
    "7.\t**nodes**: the number of nodes that received requests from per IP.\n",
    "8.\t**contents**: the number of contents/files that per IP requested for.\n",
    "9.\t**label**: 0-normal, 1-abnormal (potential cache pollution attacks). "
   ]
  },
  {
   "cell_type": "markdown",
   "metadata": {},
   "source": [
    "---\n",
    "# Question 1 - Explore dataset ( X / 5 pts )\n",
    "\n",
    "- Read the dataset \"IP_Activity_Dataset_5000.csv\" as a pandas dataframe.\n",
    "- Print the number of observations in the dataset\n",
    "- Print the number of variables in the dataset (all variables regardless of whether they are a feature or label or neither)\n",
    "- Print the number of observations for each class in the 'label' variable\n",
    "- Print the first five rows of the dataset"
   ]
  },
  {
   "cell_type": "code",
   "execution_count": 2,
   "metadata": {
    "ExecuteTime": {
     "end_time": "2023-12-12T21:40:51.099657Z",
     "start_time": "2023-12-12T21:40:51.017614Z"
    }
   },
   "outputs": [
    {
     "name": "stdout",
     "output_type": "stream",
     "text": [
      "5000\n",
      "Index(['requests', 'request-interval', 'request-popularity', 'bytes',\n",
      "       'delivery-time', 'hit-rate', 'nodes', 'contents', 'label'],\n",
      "      dtype='object')\n",
      "label\n",
      "0    4500\n",
      "1     500\n",
      "Name: count, dtype: int64\n",
      "   requests  request-interval  request-popularity        bytes  delivery-time  \\\n",
      "0        18        378.605278            1.000000    29.667209      38.833333   \n",
      "1         5          0.524200            1.000000    19.226953     204.600000   \n",
      "2      1141         66.912231            0.167647    19.847204     142.072963   \n",
      "3        80          2.472875            0.418750  1769.312634    1330.787500   \n",
      "4         1          0.000000            1.000000     0.000000       2.000000   \n",
      "\n",
      "   hit-rate  nodes  contents  label  \n",
      "0  0.888889      2         9      0  \n",
      "1  1.000000      1         5      0  \n",
      "2  0.021520      5       703      1  \n",
      "3  1.000000      2        76      0  \n",
      "4  1.000000      1         1      0  \n"
     ]
    }
   ],
   "source": [
    "df = pd.read_csv('IP_Activity_Dataset_5000.csv')\n",
    "print(df.shape[0])\n",
    "print(df.columns)\n",
    "print(df['label'].value_counts())\n",
    "print(df.head())"
   ]
  },
  {
   "cell_type": "markdown",
   "metadata": {},
   "source": [
    "---\n",
    "---\n",
    "# Question 2 - Classification and Evaluation (X / 55 pts)\n",
    "Your next task is to build classification models that can identify the malicious attacker IPs."
   ]
  },
  {
   "cell_type": "markdown",
   "metadata": {},
   "source": [
    "---\n",
    "## Question 2 Part A - Data Splitting For Classification ( X / 3 pts )\n",
    "- Use 'label' as the target variable y for your classification models for abnormal IP detection, and other variables as the feature set X.\n",
    "- Split the data into equals-sized training and test sets, and ensure the balanced distribution of labels when splitting data."
   ]
  },
  {
   "cell_type": "code",
   "execution_count": 3,
   "metadata": {
    "ExecuteTime": {
     "end_time": "2023-12-12T21:40:51.116882Z",
     "start_time": "2023-12-12T21:40:51.057006Z"
    }
   },
   "outputs": [],
   "source": [
    "X = df.drop(columns='label')\n",
    "y = df['label']\n",
    "\n",
    "Xtrain, Xtest, ytrain, ytest = train_test_split(X, y, test_size=0.5, random_state=42, stratify=y)"
   ]
  },
  {
   "cell_type": "markdown",
   "metadata": {},
   "source": [
    "---\n",
    "## Question 2 Part B - Data Standardization ( X / 3 pts )\n",
    "- Z-standarize the input features of the training and test sets.\n",
    "- All the questions below should be based on the standarized dataset."
   ]
  },
  {
   "cell_type": "code",
   "execution_count": 4,
   "metadata": {
    "ExecuteTime": {
     "end_time": "2023-12-12T21:40:51.117195Z",
     "start_time": "2023-12-12T21:40:51.069691Z"
    }
   },
   "outputs": [],
   "source": [
    "scaler = StandardScaler()\n",
    "XtrainScaled = scaler.fit_transform(Xtrain)\n",
    "XtestScaled = scaler.fit_transform(Xtest)"
   ]
  },
  {
   "cell_type": "markdown",
   "metadata": {},
   "source": [
    "---\n",
    "## Question 2 Part C - Random Forest ( X / 6 pts )\n",
    "- Build a Random Forest model that consists of 5 base decision trees with the maximum depth of 5, and fit the training set. Set random state to 42.\n",
    "- Print out the accuracy, F1-score, confusion matrix, and execution time (including both training and testing time) of the model when evaluating the testing performance of your model.\n"
   ]
  },
  {
   "cell_type": "code",
   "execution_count": 5,
   "metadata": {
    "ExecuteTime": {
     "end_time": "2023-12-12T21:40:51.153257Z",
     "start_time": "2023-12-12T21:40:51.093948Z"
    }
   },
   "outputs": [
    {
     "name": "stdout",
     "output_type": "stream",
     "text": [
      "Training Time: 0.0284268856048584\n",
      "0.924\n",
      "0.391025641025641\n",
      "[[2249    1]\n",
      " [ 189   61]]\n",
      "Testing Time: 0.009256124496459961\n"
     ]
    }
   ],
   "source": [
    "t0 = time.time()\n",
    "random_forest = RandomForestClassifier(n_estimators=5, max_depth=5, random_state=42)\n",
    "random_forest.fit(XtrainScaled, ytrain)\n",
    "print(f'Training Time: {time.time() - t0}')\n",
    "ypred_rf = random_forest.predict(XtestScaled)\n",
    "\n",
    "t0 = time.time()\n",
    "print(accuracy_score(ytest, ypred_rf))\n",
    "print(f1_score(ytest, ypred_rf))\n",
    "print(confusion_matrix(ytest, ypred_rf))\n",
    "print(f'Testing Time: {time.time() - t0}')"
   ]
  },
  {
   "cell_type": "markdown",
   "metadata": {},
   "source": [
    "---\n",
    "## Question 3 Part D - Feature Selection by Random Forest ( X / 12 pts )\n",
    "- Use the Random Forest model you built in Q2-C to generate feature importance scores and select the most important features (rank the importance scores of each feature in descending order, and only select the important features from most to least important until the accumulated relative importance score reaches 90% or 0.9).\n",
    "- Use a horizontal bar chart to plot the importance scores of all features in descending order. Add appropriate x-axis and y-axis labels.\n",
    "- Print out the selected features with their importance scores, and generate the new training and test sets with the new feature set. \n",
    "- Retrain the same Random Forest model from Q2-C on the new training set, and print out the accuracy, F1-score, confusion matrix, and execution time (including both training and testing time) of the model on the new test set."
   ]
  },
  {
   "cell_type": "code",
   "execution_count": 6,
   "metadata": {
    "ExecuteTime": {
     "end_time": "2023-12-12T21:40:51.663780Z",
     "start_time": "2023-12-12T21:40:51.144992Z"
    }
   },
   "outputs": [
    {
     "name": "stdout",
     "output_type": "stream",
     "text": [
      "nodes                 0.081450\n",
      "hit-rate              0.095605\n",
      "requests              0.141777\n",
      "request-popularity    0.259249\n",
      "contents              0.356512\n",
      "dtype: float64\n",
      "Training Time: 0.011974096298217773\n",
      "0.9944\n",
      "0.97165991902834\n",
      "[[2246    4]\n",
      " [  10  240]]\n",
      "Testing Time: 0.010282039642333984\n"
     ]
    },
    {
     "data": {
      "text/plain": "<Figure size 640x480 with 1 Axes>",
      "image/png": "[encoded data removed]"
     },
     "metadata": {},
     "output_type": "display_data"
    }
   ],
   "source": [
    "feature_names = Xtrain.columns\n",
    "f_importances = pd.Series(\n",
    "random_forest.feature_importances_, index=feature_names).sort_values()\n",
    "f_importances.drop(['bytes', 'delivery-time', 'request-interval'], inplace=True)\n",
    "ax = f_importances.plot.barh()\n",
    "ax.set_title(\"Random Forest Feature Importances\")\n",
    "\n",
    "print(f_importances)\n",
    "\n",
    "X = df.drop(columns=['label', 'bytes', 'delivery-time', 'request-interval'])\n",
    "y = df['label']\n",
    "\n",
    "Xtrain, Xtest, ytrain, ytest = train_test_split(X, y, test_size=0.5, random_state=42, stratify=y)\n",
    "XtrainScaled = scaler.fit_transform(Xtrain)\n",
    "XtestScaled = scaler.fit_transform(Xtest)\n",
    "\n",
    "t0 = time.time()\n",
    "random_forest = RandomForestClassifier(n_estimators=5, max_depth=5, random_state=42)\n",
    "random_forest.fit(XtrainScaled, ytrain)\n",
    "print(f'Training Time: {time.time() - t0}')\n",
    "ypred_rf = random_forest.predict(XtestScaled)\n",
    "\n",
    "t0 = time.time()\n",
    "print(accuracy_score(ytest, ypred_rf))\n",
    "print(f1_score(ytest, ypred_rf))\n",
    "print(confusion_matrix(ytest, ypred_rf))\n",
    "print(f'Testing Time: {time.time() - t0}')"
   ]
  },
  {
   "cell_type": "markdown",
   "metadata": {},
   "source": [
    "---\n",
    "## Question 2 Part E - Hyperparamete Tuning of Random Forest ( X / 10 pts )\n",
    "- Use 3-fold grid search to tune two hyperparameters for the Random Forest model you built in Q2-D:\n",
    "    - The number of base estimators/decision trees (find the better value among the two numbers 10 and 20).\n",
    "    - The maximum tree depth (find the better value among the two numbers 10 and 20).\n",
    "- Print out the detected better hyperparameter values and cross-validation score.\n",
    "- Build the Random Forest model with the better hyperparameter values you found, and fit the new training set from Q2-D.\n",
    "- Report the accuracy, F1-score. confusion matrix, and execution time (including both training and testing time) of the model when evaluating the testing performance of your model on the new test set from Q2-D.\n"
   ]
  },
  {
   "cell_type": "code",
   "execution_count": 7,
   "metadata": {
    "ExecuteTime": {
     "end_time": "2023-12-12T21:40:52.018020Z",
     "start_time": "2023-12-12T21:40:51.652479Z"
    }
   },
   "outputs": [
    {
     "name": "stdout",
     "output_type": "stream",
     "text": [
      "Best # of estimators: 10\n",
      "Best # of max depth: 10\n",
      "Training Time: 0.019876956939697266\n",
      "0.9944\n",
      "0.97165991902834\n",
      "[[2246    4]\n",
      " [  10  240]]\n",
      "Testing Time: 0.003888845443725586\n"
     ]
    }
   ],
   "source": [
    "params = {'n_estimators': (10, 20)}\n",
    "gs = GridSearchCV(random_forest, param_grid=params, cv=3, scoring='neg_mean_squared_error', refit=True)\n",
    "gs.fit(XtrainScaled, ytrain)\n",
    "p1 = gs.best_params_['n_estimators']\n",
    "params = {'max_depth': (10, 20)}\n",
    "gs2 = GridSearchCV(random_forest, param_grid=params, cv=3, scoring='neg_mean_squared_error', refit=True)\n",
    "gs2.fit(XtrainScaled, ytrain)\n",
    "p2 = gs2.best_params_['max_depth']\n",
    "print(f'Best # of estimators: {p1}')\n",
    "print(f'Best # of max depth: {p2}')\n",
    "\n",
    "t0 = time.time()\n",
    "random_forest = RandomForestClassifier(n_estimators=10, max_depth=10, random_state=42)\n",
    "random_forest.fit(XtrainScaled, ytrain)\n",
    "print(f'Training Time: {time.time() - t0}')\n",
    "ypred_rf = random_forest.predict(XtestScaled)\n",
    "\n",
    "t0 = time.time()\n",
    "print(accuracy_score(ytest, ypred_rf))\n",
    "print(f1_score(ytest, ypred_rf))\n",
    "print(confusion_matrix(ytest, ypred_rf))\n",
    "print(f'Testing Time: {time.time() - t0}')"
   ]
  },
  {
   "cell_type": "markdown",
   "metadata": {},
   "source": [
    "---\n",
    "## Question 2 Part F - Random Forest Performance Discussion (X/ 4 pts)\n",
    "- Compare the performance of the three models from Questions 2-C, 2-D, and 2-E, and discuss reasons for performance difference.\n",
    "- Compare the execution time of the three models from Questions 2-C, 2-D, and 2-E, and discuss reasons for time/efficiency difference."
   ]
  },
  {
   "cell_type": "markdown",
   "metadata": {},
   "source": [
    "#### Written answer: Explain here.\n",
    "The accuracy and f1 scores were both significantly better in the models from 2D and 2E compared to 2C but the 2D and 2E scored the same."
   ]
  },
  {
   "cell_type": "markdown",
   "metadata": {},
   "source": [
    "#### Written answer: Explain here.\n",
    "All the models took roughly the same amount of time to execute."
   ]
  },
  {
   "cell_type": "markdown",
   "metadata": {},
   "source": [
    "---\n",
    "## Question 2 Part G - Neural Network Model (X/ 12 pts)\n",
    "Build a MLP (multi layer perceptron) model to fit the training set from Question 2-B. The details of the MLP model are as follows:\n",
    "- The model should have two hidden layers with 32 neurons each, and use ReLU activation function. \n",
    "- The output layer should have sigmoid activation function. \n",
    "- Compile the model with binary cross-entropy loss function, Adam optimizer with learning rate of 0.001, and accuracy as the metric.\n",
    "- Train the model for 10 epochs with batch size of 32. \n",
    "- Evaluate the trained model on the test data, and print the accuracy, F1-score. confusion matrix, and execution time (including both training and testing time) of the model.\n",
    "- Record the loss for each iteration of the MLP model you trained in Q2-G, and make a plot of the number of iterations/epochs vs loss(Cross Entropy). Add appropriate x-axis and y-axis labels."
   ]
  },
  {
   "cell_type": "code",
   "execution_count": 8,
   "metadata": {
    "ExecuteTime": {
     "end_time": "2023-12-12T21:41:10.229937Z",
     "start_time": "2023-12-12T21:40:52.027765Z"
    }
   },
   "outputs": [
    {
     "name": "stdout",
     "output_type": "stream",
     "text": [
      "The model training time is 17351.1 ms\n"
     ]
    },
    {
     "data": {
      "text/plain": "<Figure size 640x480 with 1 Axes>",
      "image/png": "[encoded data removed]"
     },
     "metadata": {},
     "output_type": "display_data"
    }
   ],
   "source": [
    "class MLP(torch.nn.Module):\n",
    "    \n",
    "    def __init__(self, num_features, num_classes):\n",
    "        super().__init__()\n",
    "        # Neural Network Architecture:\n",
    "        self.dense1 = torch.nn.Linear(in_features=num_features, out_features=32)\n",
    "        self.activation1 = torch.nn.ReLU()\n",
    "        self.dense2 = torch.nn.Linear(in_features=32, out_features=32)\n",
    "        self.activation2 = torch.nn.ReLU()\n",
    "        self.dense3 = torch.nn.Linear(in_features=32, out_features=num_classes)\n",
    "        self.activation3 = torch.nn.Sigmoid()\n",
    "        \n",
    "    def forward(self, X):\n",
    "        X = self.dense1(X)  \n",
    "        X = self.activation1(X)\n",
    "        X = self.dense2(X)\n",
    "        X = self.activation2(X)\n",
    "        X = self.dense3(X)\n",
    "        X = self.activation3(X)\n",
    "        return X\n",
    "   \n",
    "Xt = torch.FloatTensor(XtrainScaled) \n",
    "yt = torch.LongTensor(ytrain)\n",
    "model = MLP(XtrainScaled.shape[1], 2)\n",
    "\n",
    "criterion = torch.nn.CrossEntropyLoss()\n",
    "optimizer = torch.optim.SGD(model.parameters(), lr=0.001)\n",
    "\n",
    "max_iter = 8000\n",
    "lossRecord = np.zeros(max_iter)\n",
    "time1 = time.time()\n",
    "for i in range(max_iter):\n",
    "    optimizer.zero_grad() \n",
    "    y_pred = model.forward(Xt)\n",
    "    loss = criterion(input=y_pred, target=yt)\n",
    "    lossRecord[i]=loss\n",
    "    loss.backward()\n",
    "    optimizer.step()\n",
    "time2 = time.time()\n",
    "plt.plot(np.arange(max_iter),lossRecord)\n",
    "plt.xlabel('Iteration')\n",
    "plt.ylabel('Cross entropy Loss')\n",
    "plt.title('Iteration vs Loss for NN_model2')\n",
    "\n",
    "print('The model training time is '+ str(round((time2-time1)*1000,2)) + ' ms')"
   ]
  },
  {
   "cell_type": "markdown",
   "metadata": {},
   "source": [
    "---\n",
    "## Question 2 Part H- ROC Curve Plot for MLP (X/ 5 pts )\n",
    "- Plot the ROC curve for evaluating the MLP model on the test set.\n",
    "- Report the area under the ROC curve."
   ]
  },
  {
   "cell_type": "code",
   "execution_count": 9,
   "metadata": {
    "ExecuteTime": {
     "end_time": "2023-12-12T21:41:10.499059Z",
     "start_time": "2023-12-12T21:41:10.224767Z"
    }
   },
   "outputs": [
    {
     "data": {
      "text/plain": "<Figure size 640x480 with 1 Axes>",
      "image/png": "[encoded data removed]"
     },
     "metadata": {},
     "output_type": "display_data"
    },
    {
     "name": "stdout",
     "output_type": "stream",
     "text": [
      "The area under the ROC curve is 0.49604088888888886\n"
     ]
    }
   ],
   "source": [
    "yprob = y_pred.detach().numpy()[:, 1]  \n",
    "fpr, tpr, thresholds = roc_curve(ytest, yprob)\n",
    "auc_roc = auc(fpr, tpr)\n",
    "\n",
    "plt.plot(fpr, tpr, label=f'AUC - model = {auc_roc:.4f}')\n",
    "plt.xlabel('False Positive Rate')\n",
    "plt.ylabel('True Positive Rate')\n",
    "plt.title('ROC Curve')\n",
    "plt.legend(loc='lower right')\n",
    "plt.show()\n",
    "\n",
    "print('The area under the ROC curve is', auc_roc)"
   ]
  },
  {
   "cell_type": "markdown",
   "metadata": {},
   "source": [
    "---\n",
    "---\n",
    "---\n",
    "**You're done! As always, double-check your work by re-running the notebook from scratch.**"
   ]
  }
 ],
 "metadata": {
  "kernelspec": {
   "display_name": "Python 3 (ipykernel)",
   "language": "python",
   "name": "python3"
  },
  "language_info": {
   "codemirror_mode": {
    "name": "ipython",
    "version": 3
   },
   "file_extension": ".py",
   "mimetype": "text/x-python",
   "name": "python",
   "nbconvert_exporter": "python",
   "pygments_lexer": "ipython3",
   "version": "3.9.13"
  },
  "vscode": {
   "interpreter": {
    "hash": "ad2bdc8ecc057115af97d19610ffacc2b4e99fae6737bb82f5d7fb13d2f2c186"
   }
  }
 },
 "nbformat": 4,
 "nbformat_minor": 4
}
