{
 "cells": [
  {
   "cell_type": "markdown",
   "metadata": {
    "id": "dw9DILoTV5Ms"
   },
   "source": [
    "# Midterm - DS3000 (100 pts + 15 Bonus)\n",
    "\n",
    "### Student Name: xxxxxxxx\n",
    "### Student ID: xxxxxxxx\n",
    "\n",
    "## General comments\n",
    "\n",
    "* This Midterm integrates knowledge and skills acquired in the first half of the semester, especially in the Assignments. \n",
    "\n",
    "* You **are allowed** to use any document and sources on your computer and look up documents on the internet. You need to **cite any code that you use if it is NOT from the course** Labs or Tutorial examples. \n",
    "\n",
    "* You are **NOT allowed to use chatbots**. \n",
    "\n",
    "* You are **NOT allowedto share documents, or communicate**  in any other way with people inside or outside the class during the Midterm.\n",
    "\n",
    "* To finish the Midterm in the alloted **2 hrs**, you will have to work efficiently. **Read the entirety of each question carefully.** \n",
    "\n",
    "* You need to submit the Midterm **at 10:30 am on OWL in the Assignments/Midterm** section where you downloaded the data set and notebook. Late submission will be scored with 0 pts, unless you have received extra accommodation. To avoid technical difficulties, start your submission at latest five to ten minutes before the deadline. To be sure, you can also submit multiple version - only the latest version will be graded.  \n",
    "\n",
    "* Some question demand a **Written Answer** - answer these in a full English sentence. \n",
    "\n",
    "* For your Figures, ensure that all axes are **labeled** in an informative way. \n",
    "\n",
    "* Ensure that your **code runs correctly** by choosing \"Kernel -> Restart and Run All\" before submitting. \n",
    "\n",
    "### Additional Guidance\n",
    "\n",
    "If at any point you are not sure about the answer, then *write your assumptions clearly in your exam and proceed according to those assumptions.*\n",
    "\n",
    "Good luck!"
   ]
  },
  {
   "cell_type": "code",
   "execution_count": 37,
   "metadata": {
    "id": "wDIQkp3RV5Mx"
   },
   "outputs": [],
   "source": [
    "## Preliminaries\n",
    "\n",
    "### YOU MAY ADD ADDITIONAL IMPORTS IF YOU WISH\n",
    "\n",
    "import matplotlib\n",
    "import matplotlib.pyplot as plt \n",
    "%matplotlib inline\n",
    "import pandas as pd \n",
    "import numpy as np\n",
    "import seaborn as sns\n",
    "from sklearn.model_selection import train_test_split, cross_val_score, GridSearchCV, validation_curve\n",
    "from sklearn.pipeline import Pipeline\n",
    "from sklearn.linear_model import LinearRegression, Lasso, Ridge, LogisticRegression\n",
    "from sklearn.preprocessing import OneHotEncoder, PolynomialFeatures, StandardScaler\n",
    "from sklearn.metrics import confusion_matrix, roc_curve, auc, mean_absolute_error, mean_squared_error, r2_score, accuracy_score\n",
    "from sklearn.svm import SVC\n",
    "from sklearn.utils import resample\n",
    "from datetime import datetime\n",
    " "
   ]
  },
  {
   "cell_type": "markdown",
   "metadata": {
    "id": "gQ6OsD-FV5My"
   },
   "source": [
    "## Dataset \n",
    "\n",
    "This exam objective is to develop a data-driven predictive model for the price of properties.  \n",
    "You will be working with a dataset called `Property_Price`. You need to download this dataset from OWL in the Assignments/Midterm. Below, we provide a detailed description of each variable in the dataset:\n",
    "\n",
    "-\t**ID**: the property's identification\n",
    "-\t**MSSubClass**: The building class\n",
    "-\t**LotArea**: Lot size in square feet\n",
    "-\t**LandSlope**: Slope of property\n",
    "-\t**HouseStyle**: Style of dwelling\n",
    "-\t**OverallQual**: Overall material and finish quality\n",
    "-\t**OverallCond**: Overall condition rating\n",
    "-\t**YearBuilt**: Original construction date\n",
    "-\t**MasVnrArea**: Masonry veneer area in square feet\n",
    "-\t**TotalBsmtSF**: Total square feet of basement area\n",
    "-\t**Heating**: Type of heating\n",
    "-\t**CentralAir**: Central air conditioning\n",
    "-\t**1stFlrSF**: First Floor square feet\n",
    "-\t**2ndFlrSF**: Second floor square feet\n",
    "-\t**GrLivArea**: Above grade (ground) living area square feet\n",
    "-\t**FullBath**: Full bathrooms above grade\n",
    "-\t**HalfBath**: Half baths above grade\n",
    "-\t**BedroomAbvGr**: Number of bedrooms above basement level\n",
    "-\t**TotRmsAbvGrd**: Total rooms above grade (does not include bathrooms)\n",
    "-\t**Fireplaces**: Number of fireplaces\n",
    "-\t**GarageCars**: Size of garage in car capacity\n",
    "-\t**GarageArea**: Size of garage in square feet\n",
    "-\t**PavedDrive**: Paved driveway\n",
    "-\t**WoodDeckSF**: Wood deck area in square feet\n",
    "-\t**OpenPorchSF**: Open porch area in square feet\n",
    "-\t**MiscVal**: $Value of miscellaneous feature\n",
    "-\t**YrSold**: Year Sold\n",
    "-\t**SalePrice**: the property's sale price in dollars. This is the target variable that you're trying to predict.\n",
    "\n",
    "\n",
    "\n",
    "\n",
    "\n"
   ]
  },
  {
   "cell_type": "markdown",
   "metadata": {},
   "source": [
    "## Question1: Regression (60 pts)"
   ]
  },
  {
   "cell_type": "markdown",
   "metadata": {
    "id": "fypI1RKoV5Mz"
   },
   "source": [
    "### Q1.1: Data Preparation (15pts)\n",
    "\n",
    "Load the dataset and perform necessary preprocessing steps and feature engineering:\n",
    "\n",
    "- Remove rows with any null values. \n",
    "\n",
    "- Remove the `Id` column from your dataframe. \n",
    "\n",
    "- Find the age of property using `YearBuilt` variable and replace `YearBuilt` with the new variable `PropertyAge`.\n",
    "\n",
    "- Use `YrSold` variable to calculate how many years ago the property was sold and name that new coulmn `YrsSinceSale` and replace `YrSold`.\n",
    "\n",
    "- Encode all categorical columns (One-hot encoding). \n",
    "\n",
    "- **Written Answer**: How many new columns were added?\n",
    "\n",
    "- **Written Answer**: Explain the choice of One-hot encoding for categorical variables and the potential issues with dimensionality.\n"
   ]
  },
  {
   "cell_type": "code",
   "execution_count": 38,
   "metadata": {
    "colab": {
     "base_uri": "https://localhost:8080/"
    },
    "id": "DaAo_1BlV5Mz",
    "outputId": "a9740a85-b9ae-4ceb-b088-37506b5da23d"
   },
   "outputs": [
    {
     "name": "stdout",
     "output_type": "stream",
     "text": [
      "Id              0\n",
      "MSSubClass      0\n",
      "LotArea         0\n",
      "LandSlope       0\n",
      "HouseStyle      0\n",
      "OverallQual     0\n",
      "OverallCond     0\n",
      "YearBuilt       0\n",
      "MasVnrArea      0\n",
      "TotalBsmtSF     0\n",
      "Heating         0\n",
      "CentralAir      0\n",
      "1stFlrSF        0\n",
      "2ndFlrSF        0\n",
      "GrLivArea       0\n",
      "FullBath        0\n",
      "HalfBath        0\n",
      "BedroomAbvGr    0\n",
      "TotRmsAbvGrd    0\n",
      "Fireplaces      0\n",
      "GarageCars      0\n",
      "GarageArea      0\n",
      "PavedDrive      0\n",
      "WoodDeckSF      0\n",
      "OpenPorchSF     0\n",
      "MiscVal         0\n",
      "YrSold          0\n",
      "SalePrice       0\n",
      "dtype: int64\n",
      "<class 'pandas.core.frame.DataFrame'>\n",
      "Int64Index: 1452 entries, 0 to 1459\n",
      "Data columns (total 44 columns):\n",
      " #   Column             Non-Null Count  Dtype  \n",
      "---  ------             --------------  -----  \n",
      " 0   MSSubClass         1452 non-null   int64  \n",
      " 1   LotArea            1452 non-null   int64  \n",
      " 2   OverallQual        1452 non-null   int64  \n",
      " 3   OverallCond        1452 non-null   int64  \n",
      " 4   MasVnrArea         1452 non-null   float64\n",
      " 5   TotalBsmtSF        1452 non-null   int64  \n",
      " 6   1stFlrSF           1452 non-null   int64  \n",
      " 7   2ndFlrSF           1452 non-null   int64  \n",
      " 8   GrLivArea          1452 non-null   int64  \n",
      " 9   FullBath           1452 non-null   int64  \n",
      " 10  HalfBath           1452 non-null   int64  \n",
      " 11  BedroomAbvGr       1452 non-null   int64  \n",
      " 12  TotRmsAbvGrd       1452 non-null   int64  \n",
      " 13  Fireplaces         1452 non-null   int64  \n",
      " 14  GarageCars         1452 non-null   int64  \n",
      " 15  GarageArea         1452 non-null   int64  \n",
      " 16  WoodDeckSF         1452 non-null   int64  \n",
      " 17  OpenPorchSF        1452 non-null   int64  \n",
      " 18  MiscVal            1452 non-null   int64  \n",
      " 19  SalePrice          1452 non-null   int64  \n",
      " 20  PropertyAge        1452 non-null   int64  \n",
      " 21  YrsSinceSale       1452 non-null   int64  \n",
      " 22  LandSlope_Gtl      1452 non-null   uint8  \n",
      " 23  LandSlope_Mod      1452 non-null   uint8  \n",
      " 24  LandSlope_Sev      1452 non-null   uint8  \n",
      " 25  HouseStyle_1.5Fin  1452 non-null   uint8  \n",
      " 26  HouseStyle_1.5Unf  1452 non-null   uint8  \n",
      " 27  HouseStyle_1Story  1452 non-null   uint8  \n",
      " 28  HouseStyle_2.5Fin  1452 non-null   uint8  \n",
      " 29  HouseStyle_2.5Unf  1452 non-null   uint8  \n",
      " 30  HouseStyle_2Story  1452 non-null   uint8  \n",
      " 31  HouseStyle_SFoyer  1452 non-null   uint8  \n",
      " 32  HouseStyle_SLvl    1452 non-null   uint8  \n",
      " 33  Heating_Floor      1452 non-null   uint8  \n",
      " 34  Heating_GasA       1452 non-null   uint8  \n",
      " 35  Heating_GasW       1452 non-null   uint8  \n",
      " 36  Heating_Grav       1452 non-null   uint8  \n",
      " 37  Heating_OthW       1452 non-null   uint8  \n",
      " 38  Heating_Wall       1452 non-null   uint8  \n",
      " 39  CentralAir_N       1452 non-null   uint8  \n",
      " 40  CentralAir_Y       1452 non-null   uint8  \n",
      " 41  PavedDrive_N       1452 non-null   uint8  \n",
      " 42  PavedDrive_P       1452 non-null   uint8  \n",
      " 43  PavedDrive_Y       1452 non-null   uint8  \n",
      "dtypes: float64(1), int64(21), uint8(22)\n",
      "memory usage: 292.1 KB\n"
     ]
    }
   ],
   "source": [
    "# Load the data\n",
    "data = pd.read_csv('Property_Price.csv')\n",
    "# data.info()\n",
    "data = data.dropna()\n",
    "print(data.isnull().sum())\n",
    "\n",
    "data.drop('Id', axis=1, inplace=True)\n",
    "\n",
    "# Get the current year\n",
    "current_year = datetime.now().year\n",
    "\n",
    "# Calculate the age of each property\n",
    "data['PropertyAge'] = current_year - data['YearBuilt']\n",
    "\n",
    "# Display the DataFrame with the new 'PropertyAge' column\n",
    "# print(data[['YearBuilt', 'PropertyAge']])\n",
    "\n",
    "# Calculate how many years ago each property was sold\n",
    "data['YrsSinceSale'] = current_year - data['YrSold']\n",
    "data.drop(['YearBuilt','YrSold'], axis=1, inplace=True)\n",
    "\n",
    "categorical_cols = data.select_dtypes('object').columns\n",
    "\n",
    "# One-hot encode the categorical columns\n",
    "data_encoded = pd.get_dummies(data, columns=categorical_cols)\n",
    "\n",
    "data_encoded.info()\n"
   ]
  },
  {
   "cell_type": "markdown",
   "metadata": {},
   "source": [
    "**Written Answer**:  44-27 =  15 new columns were added"
   ]
  },
  {
   "cell_type": "markdown",
   "metadata": {},
   "source": [
    "**Written Answer**: One-hot encoding is used to convert categorical variables into numerical so that ML algorithms do a better job in prediction. However, this can lead to a high-dimensional feature space (known as the curse of dimensionality), which can make the model complex and overfit. Feature selection or dimensionality reduction techniques like PCA may sometimes be necessary to address this."
   ]
  },
  {
   "cell_type": "markdown",
   "metadata": {
    "id": "P2yiWCJcV5M0"
   },
   "source": [
    "### Q1.2: Data Splitting (5pts)\n",
    "\n",
    "- Separate `SalePrice` as the target variable for your machine learning model (Regression). \n",
    "- Split your preprocessed dataset by setting aside 20 percent of data for testing, and the rest for training. *Make sure to set the random_state to 42 if you are using a sklearn function to accomplish this. \n"
   ]
  },
  {
   "cell_type": "code",
   "execution_count": 39,
   "metadata": {},
   "outputs": [],
   "source": [
    "# Identify features and target variable \n",
    "X = data_encoded.drop('SalePrice', axis = 'columns').values\n",
    "\n",
    "y = data_encoded.SalePrice\n",
    "\n",
    "# Splitting data \n",
    "Xtrain, Xtest, ytrain, ytest = train_test_split(X,\n",
    "                                                y, \n",
    "                                                test_size =0.20, random_state=42)\n",
    "\n"
   ]
  },
  {
   "cell_type": "markdown",
   "metadata": {
    "id": "pQ5nPFsdV5M0"
   },
   "source": [
    "### Q1.3: Build a Linear Regression model (15pts)\n",
    "- Build a model to predict SalePrice as a `linear function` of the other variables (features) in the dataset. In order to properly build the regression model, the features need to be `standardized`. Build a `pipeline` that **standardizes the features** and **creates a linear regression model**.\n",
    "- Report the Mean Squared Error (MSE) to evaluate both the training and test performance of your model.\n",
    "- **Written Answer**:Explain the potential reasons for the observed MSE and discuss strategies for improvement."
   ]
  },
  {
   "cell_type": "code",
   "execution_count": 40,
   "metadata": {
    "colab": {
     "base_uri": "https://localhost:8080/",
     "height": 282
    },
    "id": "Y10dmz8zV5M1",
    "outputId": "96d8b52d-a088-4725-9977-1e58b1caf186"
   },
   "outputs": [
    {
     "name": "stdout",
     "output_type": "stream",
     "text": [
      "Trianing MSE: 1294226072.3438902\n",
      "Test MSE: 3.2227502144136768e+32\n"
     ]
    }
   ],
   "source": [
    "myLinearModel = Pipeline([\n",
    "    ('standardize', StandardScaler()),\n",
    "    ('linear_regression', LinearRegression())\n",
    "  ])\n",
    "\n",
    "myLinearModel.fit(Xtrain, ytrain)\n",
    "\n",
    "trainingPreds = myLinearModel.predict(Xtrain)\n",
    "testPreds = myLinearModel.predict(Xtest)\n",
    "\n",
    "trainingMSE = mean_squared_error(ytrain, trainingPreds)\n",
    "testMSE = mean_squared_error(ytest, testPreds)\n",
    "\n",
    "print('Trianing MSE:',trainingMSE )\n",
    "print('Test MSE:',testMSE )"
   ]
  },
  {
   "cell_type": "markdown",
   "metadata": {},
   "source": [
    "**Written Answer**: A high MSE indicates poor model performance, which could be due to non-linearity in the data, outliers, or irrelevant features. Improvements could include transforming features to better capture the relationship, removing outliers, or using a more complex model that can capture the data's structure better."
   ]
  },
  {
   "cell_type": "markdown",
   "metadata": {
    "id": "nfFJqTkNV5M1"
   },
   "source": [
    "### Q1.4: Regularization and Hyperparameter Tuning (25pts)\n",
    "\n",
    "1. Use L2 regularization by adding a penalty of $\\alpha$ to the regression model: $\\alpha \\sum_{i}{\\theta_i^2}$  (where $\\theta_i$ are your regression coefficients). Vary the regularization parameter $\\alpha$  between 0.2 and 250, evenly spaced in log-space, and generate 50 values. \n",
    "2. Build the `pipeline` that **standardizes the features** and **create the regularized regression model**.\n",
    "3. Define a grid of regularization parameters for hyperparameter tuning for different values of $\\alpha$ (using gridsearch and cv=10). Use MSE as evaluation criterion (*hint: use 'neg_mean_squared_error' as scoring*).  \n",
    "4. Make a plot of the mean validation scores vs $\\alpha$.  \n",
    "5. Report the best (optimum) $\\alpha$ that you found.\n",
    "6. Evaluate the the model performance on the test set using the best $\\alpha$ and report test MSE.\n",
    "7. **Written Answer\"**:What was the impact of regularization on the model's performance? How does the regularization parameter alpha influence the model?\n",
    "\n"
   ]
  },
  {
   "cell_type": "code",
   "execution_count": 41,
   "metadata": {},
   "outputs": [
    {
     "data": {
      "image/png": "[encoded data removed]",
      "text/plain": [
       "<Figure size 1000x600 with 1 Axes>"
      ]
     },
     "metadata": {},
     "output_type": "display_data"
    },
    {
     "name": "stdout",
     "output_type": "stream",
     "text": [
      "Best alpha: {'ridge__alpha': 120.76157897609576}\n",
      "Mean Squared Error: 973756622.9817563\n"
     ]
    }
   ],
   "source": [
    "# Define the model\n",
    "Ridge_pipe = Pipeline([\n",
    "    ('scale', StandardScaler()),\n",
    "    ('ridge', Ridge()) \n",
    "    ])\n",
    "\n",
    "\n",
    "# Define a grid of alpha values for hyperparameter tuning\n",
    "alpha_values = np.exp(np.linspace(np.log(0.2),np.log(250),50))\n",
    "\n",
    "param_grid = {'ridge__alpha': alpha_values}\n",
    "\n",
    "# Setup the grid search\n",
    "grid_search = GridSearchCV(Ridge_pipe, param_grid, cv=30, scoring='neg_mean_squared_error', return_train_score=True)\n",
    "\n",
    "# Perform the grid search\n",
    "grid_search.fit(Xtrain, ytrain)\n",
    "\n",
    "# Extract the mean validation scores\n",
    "mean_test_scores = grid_search.cv_results_['mean_test_score']\n",
    "\n",
    "# Convert to positive because the scores are negative mean squared errors\n",
    "mean_test_scores = -mean_test_scores\n",
    "\n",
    "# Extract the alpha values (the grid parameters)\n",
    "alphas = grid_search.cv_results_['param_ridge__alpha'].data\n",
    "\n",
    "# Plotting the mean validation scores vs. alpha values\n",
    "plt.figure(figsize=(10, 6))\n",
    "plt.plot(alphas, mean_test_scores, marker='o')\n",
    "\n",
    "# Add some helpful labels and title\n",
    "plt.xlabel(r'\\alpha$')\n",
    "plt.ylabel(r'Mean Validation Score (Negative MSE)')\n",
    "plt.title(r'Mean Validation Score vs. $\\alpha$ for Ridge Regression')\n",
    "\n",
    "# Show the plot\n",
    "plt.show()\n",
    "\n",
    "\n",
    "\n",
    "# Evaluate the model\n",
    "best_model = grid_search.best_estimator_\n",
    "predictions = best_model.predict(Xtest)\n",
    "mse = mean_squared_error(ytest, predictions)\n",
    "print(f'Best alpha: {grid_search.best_params_}')\n",
    "print(f'Mean Squared Error: {mse}')"
   ]
  },
  {
   "cell_type": "markdown",
   "metadata": {},
   "source": [
    "**Written Answer:** Choosing the optimal regularization parameter helps to find a good balance the bias-variance trade-off, where the model is complex enough to capture underlying patterns but not so complex that it becomes sensitive to noise in the training data."
   ]
  },
  {
   "cell_type": "markdown",
   "metadata": {},
   "source": [
    "## Question 2  - Classification (40 pts)"
   ]
  },
  {
   "cell_type": "markdown",
   "metadata": {
    "id": "FWcR9tK5V5M2"
   },
   "source": [
    "### Q2.1: Logistic Regression (LR) (20pts)\n",
    "1. Convert the problem into a binary classification by changing the taget variable. Use the train and test sets from Q1.2. If `SalePrice` is above median value (inclusive) will be assigned 1, and 0 otherwise. \n",
    "2. Perform logistic regression`. Evaluate the model generalization using `confusion matrix` and `accuracy` metrics and report them.\n",
    "3. Plot ROC curve and report AUC. \n",
    "4. **Written Answer** Discuss the choice of converting the regression problem into a binary classification task and its practical implications.\n",
    "5. **Written Answer** Analyze the confusion matrix results and discuss the balance between false positives and false negatives."
   ]
  },
  {
   "cell_type": "code",
   "execution_count": 42,
   "metadata": {
    "colab": {
     "base_uri": "https://localhost:8080/"
    },
    "id": "3VEX_1iOV5M2",
    "outputId": "4093ca71-55b3-4bb1-af85-497b9d8c843c"
   },
   "outputs": [
    {
     "name": "stdout",
     "output_type": "stream",
     "text": [
      "Confusion Matrix:\n",
      "[[139  10]\n",
      " [ 10 132]]\n",
      "Test Accuracy: 0.9313\n",
      "ROC AUC: 0.9848\n"
     ]
    },
    {
     "data": {
      "image/png": "[encoded data removed]",
      "text/plain": [
       "<Figure size 640x480 with 1 Axes>"
      ]
     },
     "metadata": {},
     "output_type": "display_data"
    }
   ],
   "source": [
    "# Convert to binary classification problem\n",
    "median_price = ytrain.median()\n",
    "ytrain_binary = (ytrain >= median_price).astype(int)\n",
    "ytest_binary = (ytest >= median_price).astype(int)\n",
    "\n",
    "# Define and fit the logistic regression model\n",
    "logistic_model = LogisticRegression(max_iter=10000)\n",
    "logistic_model.fit(Xtrain, ytrain_binary)\n",
    "\n",
    "# Predictions\n",
    "ytest_pred = logistic_model.predict(Xtest)\n",
    "\n",
    "# Confusion matrix\n",
    "conf_matrix = confusion_matrix(ytest_binary, ytest_pred)\n",
    "print(\"Confusion Matrix:\")\n",
    "print(conf_matrix)\n",
    "\n",
    "\n",
    "test_accuracy = accuracy_score(ytest_binary, ytest_pred)\n",
    "print(f\"Test Accuracy: {test_accuracy:.4f}\")\n",
    "\n",
    "# ROC and AUC\n",
    "ytest_pred_proba = logistic_model.predict_proba(Xtest)[:, 1]\n",
    "fpr, tpr, thresholds = roc_curve(ytest_binary, ytest_pred_proba)\n",
    "roc_auc = auc(fpr, tpr)\n",
    "print(f\"ROC AUC: {roc_auc:.4f}\")\n",
    "\n",
    "# Plot the ROC curve\n",
    "plt.figure()\n",
    "plt.plot(fpr, tpr, label='ROC curve (area = %0.2f)' % roc_auc)\n",
    "plt.plot([0, 1], [0, 1], linestyle='--')  # Diagonal line for random chance\n",
    "plt.xlabel('False Positive Rate')\n",
    "plt.ylabel('True Positive Rate')\n",
    "plt.title('Receiver Operating Characteristic')\n",
    "plt.legend(loc=\"lower right\")\n",
    "plt.show()"
   ]
  },
  {
   "cell_type": "markdown",
   "metadata": {
    "id": "AqkJNtMtV5M2"
   },
   "source": [
    "**Written Answer:** Converting a regression problem to binary classification simplifies the problem and may make it more interpretable for certain business decisions, such as identifying whether a house will sell above or below the median price. However, it also loses information because the exact price predictions are not made, if needed.\n"
   ]
  },
  {
   "cell_type": "markdown",
   "metadata": {},
   "source": [
    "**Written Answer:** The confusion matrix shows an equal number of false positives and false negatives (10 each). This balance is generally positive because it indicates that the model does not exhibit a bias towards one type of error over the other. \n",
    "\n"
   ]
  },
  {
   "cell_type": "markdown",
   "metadata": {
    "id": "pxsvJvJIV5M2"
   },
   "source": [
    "### Q2.2: Support Vector Machine (SVM) (20pts)\n",
    "\n",
    "1. Define an SVM classification model and choose a range of ten (10) values for regularization parameter `C` between 0.01 and 10, evenly spaced in log-space.\n",
    "2. Calculate the mean and standard deviation for the training scores and validation score using 10 fold validation_curve with `accuracy` metric. \n",
    "3. Find the best C and report its value. \n",
    "4. Calculate and report test accuracy using best C value.\n",
    "5. Plot ROC curve and report AUC. \n",
    "6. **Written Answer**: to compare SVM results with Logistic Regression's in Q2.1, what do you conclude according to their test AUC and Accuracy values. Comprehensively explain.\n"
   ]
  },
  {
   "cell_type": "code",
   "execution_count": 43,
   "metadata": {
    "colab": {
     "base_uri": "https://localhost:8080/"
    },
    "id": "Ld47CLOlV5M3",
    "outputId": "42f3aa1d-f2e1-4687-89e1-c6eef5bd0661"
   },
   "outputs": [
    {
     "name": "stdout",
     "output_type": "stream",
     "text": [
      "The best C value is: 10.0 with a mean validation score of: 0.830297671676982\n",
      "Test set accuracy using the best C value (10.0): 0.8797\n",
      "ROC AUC: 0.9848\n"
     ]
    },
    {
     "data": {
      "image/png": "[encoded data removed]",
      "text/plain": [
       "<Figure size 640x480 with 1 Axes>"
      ]
     },
     "metadata": {},
     "output_type": "display_data"
    }
   ],
   "source": [
    "# Define the SVM classification model\n",
    "svm_model = SVC()\n",
    "\n",
    "# Choose a range of ten C values equally spaced on a log scale between 0.001 to 1000\n",
    "C_values = np.logspace(-2, 1, 10)\n",
    "\n",
    "# Calculate the training and test scores using 10-fold cross-validation\n",
    "train_scores, valid_scores = validation_curve(\n",
    "    estimator=svm_model, X=Xtrain, y=ytrain_binary, param_name=\"C\", param_range=C_values,\n",
    "    cv=10, scoring='accuracy', n_jobs=-1)\n",
    "\n",
    "# Calculate the mean and standard deviation for training set scores\n",
    "train_scores_mean = np.mean(train_scores, axis=1)\n",
    "train_scores_std = np.std(train_scores, axis=1)\n",
    "\n",
    "# Calculate the mean and standard deviation for validation set scores\n",
    "valid_scores_mean = np.mean(valid_scores, axis=1)\n",
    "valid_scores_std = np.std(valid_scores, axis=1)\n",
    "\n",
    "# Find the best C value and its corresponding mean validation score\n",
    "best_C_index = np.argmax(valid_scores_mean)\n",
    "best_C = C_values[best_C_index]\n",
    "best_score = valid_scores_mean[best_C_index]\n",
    "\n",
    "# Report the best C value\n",
    "print(f\"The best C value is: {best_C} with a mean validation score of: {best_score}\")\n",
    "\n",
    "# Now we train a new model on the full training set using the best C value and evaluate on the test set\n",
    "svm_best = SVC(C=best_C, max_iter=10000)\n",
    "svm_best.fit(Xtrain, ytrain_binary)\n",
    "\n",
    "# Predict and calculate accuracy on the test set\n",
    "ytest_pred = svm_best.predict(Xtest)\n",
    "test_accuracy = accuracy_score(ytest_binary, ytest_pred)\n",
    "\n",
    "# Report the test set accuracy\n",
    "print(f\"Test set accuracy using the best C value ({best_C}): {test_accuracy:.4f}\")\n",
    "\n",
    "ytest_pred_proba = logistic_model.predict_proba(Xtest)[:, 1]\n",
    "fpr, tpr, thresholds = roc_curve(ytest_binary, ytest_pred_proba)\n",
    "roc_auc = auc(fpr, tpr)\n",
    "print(f\"ROC AUC: {roc_auc:.4f}\")\n",
    "\n",
    "# Plot the ROC curve\n",
    "plt.figure()\n",
    "plt.plot(fpr, tpr, label='ROC curve (area = %0.2f)' % roc_auc)\n",
    "plt.plot([0, 1], [0, 1], linestyle='--')  # Diagonal line for random chance\n",
    "plt.xlabel('False Positive Rate')\n",
    "plt.ylabel('True Positive Rate')\n",
    "plt.title('Receiver Operating Characteristic')\n",
    "plt.legend(loc=\"lower right\")\n",
    "plt.show()"
   ]
  },
  {
   "cell_type": "markdown",
   "metadata": {},
   "source": [
    "**Written Answer**: The equality of AUC scores suggests that both models have a similar ability to rank positive cases higher than negative ones over the range of possible thresholds. However, logistic regression might be doing better at the specific threshold that defines the \"positive\" class in your test accuracy calculation."
   ]
  },
  {
   "cell_type": "markdown",
   "metadata": {},
   "source": [
    "## Question 3 - Model Uncertainty (15 Bonus pts)\n",
    "\n",
    "- Estimate the confidence interval of the performance of either Logistic Regression or SVM models, you created above in Q3, using the bootstrap method with 10 bootstrap samples.\n",
    "- **Written Answer:** Discuss the significance of the 95% confidence interval in the context of model performance.How can the concept of uncertainty in model predictions impact decision-making processes?"
   ]
  },
  {
   "cell_type": "markdown",
   "metadata": {},
   "source": [
    "**Both of the Following Answers are acceptable**"
   ]
  },
  {
   "cell_type": "code",
   "execution_count": 44,
   "metadata": {},
   "outputs": [
    {
     "name": "stdout",
     "output_type": "stream",
     "text": [
      "95% Confidence interval for the SVM model accuracy: [0.86, 0.88]\n"
     ]
    }
   ],
   "source": [
    "# Number of bootstrap samples\n",
    "n_iterations = 10\n",
    "# To store the scores\n",
    "bootstrap_scores = []\n",
    "\n",
    "# Run bootstrap\n",
    "for i in range(n_iterations):\n",
    "    # Prepare train and test sets\n",
    "    Xtrain_bootstrap, ytrain_bootstrap = resample(Xtrain, ytrain_binary)\n",
    "    \n",
    "    # Fit the bootstrapped model\n",
    "    bootstrapped_model = SVC(C=best_C)\n",
    "    bootstrapped_model.fit(Xtrain_bootstrap, ytrain_bootstrap)\n",
    "    \n",
    "    # Evaluate model\n",
    "    ypred = bootstrapped_model.predict(Xtest)\n",
    "    score = accuracy_score(ytest_binary, ypred)\n",
    "    bootstrap_scores.append(score)\n",
    "\n",
    "# Calculate 95% confidence interval\n",
    "alpha = 0.95\n",
    "lower_bound = np.percentile(bootstrap_scores, (1 - alpha)/2 * 100)\n",
    "upper_bound = np.percentile(bootstrap_scores, (alpha + (1 - alpha)/2) * 100)\n",
    "print(f'95% Confidence interval for the SVM model accuracy: [{lower_bound:.2f}, {upper_bound:.2f}]')"
   ]
  },
  {
   "cell_type": "code",
   "execution_count": 45,
   "metadata": {},
   "outputs": [
    {
     "name": "stdout",
     "output_type": "stream",
     "text": [
      "95% Confidence interval for the LR model accuracy: [0.91, 0.95]\n"
     ]
    }
   ],
   "source": [
    "# Number of bootstrap samples\n",
    "n_iterations = 10\n",
    "# To store the scores\n",
    "bootstrap_scores = []\n",
    "\n",
    "# Run bootstrap\n",
    "for i in range(n_iterations):\n",
    "    # Prepare train and test sets\n",
    "    Xtrain_bootstrap, ytrain_bootstrap = resample(Xtrain, ytrain_binary)\n",
    "    \n",
    "    # Fit the bootstrapped model\n",
    "    bootstrapped_model = LogisticRegression(max_iter=10000)\n",
    "    bootstrapped_model.fit(Xtrain_bootstrap, ytrain_bootstrap)\n",
    "    \n",
    "    # Evaluate model\n",
    "    ypred = bootstrapped_model.predict(Xtest)\n",
    "    score = accuracy_score(ytest_binary, ypred)\n",
    "    bootstrap_scores.append(score)\n",
    "\n",
    "# Calculate 95% confidence interval\n",
    "alpha = 0.95\n",
    "lower_bound = np.percentile(bootstrap_scores, (1 - alpha)/2 * 100)\n",
    "upper_bound = np.percentile(bootstrap_scores, (alpha + (1 - alpha)/2) * 100)\n",
    "print(f'95% Confidence interval for the LR model accuracy: [{lower_bound:.2f}, {upper_bound:.2f}]')"
   ]
  },
  {
   "cell_type": "markdown",
   "metadata": {
    "id": "im0IM5GVV5M3"
   },
   "source": [
    "**Written Answer:** The confidence interval suggests that the model's accuracy is expected to lie between 86% and 88% for SVM (or 91% and 95% for LR) for different samples of the population, with a 95% level of confidence. The relatively narrow range indicates consistent performance across various sets of data, suggesting that the model is stable. This is useful for estimating how well the model will generalize to new, unseen data.\n",
    "Decision-makers can use the confidence interval to gauge the reliability of the model. If the lower bound of the interval meets or exceeds the minimum acceptable performance threshold for the task, the model can be considered reliable.\n"
   ]
  }
 ],
 "metadata": {
  "colab": {
   "name": "SE-4460-MidtermSolutions.ipynb",
   "provenance": []
  },
  "kernelspec": {
   "display_name": "Python 3 (ipykernel)",
   "language": "python",
   "name": "python3"
  },
  "language_info": {
   "codemirror_mode": {
    "name": "ipython",
    "version": 3
   },
   "file_extension": ".py",
   "mimetype": "text/x-python",
   "name": "python",
   "nbconvert_exporter": "python",
   "pygments_lexer": "ipython3",
   "version": "3.9.13"
  }
 },
 "nbformat": 4,
 "nbformat_minor": 1
}
